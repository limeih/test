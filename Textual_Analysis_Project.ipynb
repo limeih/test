{
  "nbformat": 4,
  "nbformat_minor": 0,
  "metadata": {
    "colab": {
      "name": "Textual Analysis Project.ipynb",
      "provenance": [],
      "collapsed_sections": [],
      "machine_shape": "hm"
    },
    "kernelspec": {
      "name": "python3",
      "display_name": "Python 3"
    },
    "accelerator": "GPU",
    "widgets": {
      "application/vnd.jupyter.widget-state+json": {
        "a0743ef45afd407aa54a6c8cdd7c9fc0": {
          "model_module": "@jupyter-widgets/controls",
          "model_name": "HBoxModel",
          "state": {
            "_view_name": "HBoxView",
            "_dom_classes": [],
            "_model_name": "HBoxModel",
            "_view_module": "@jupyter-widgets/controls",
            "_model_module_version": "1.5.0",
            "_view_count": null,
            "_view_module_version": "1.5.0",
            "box_style": "",
            "layout": "IPY_MODEL_05901ba894b94e11828e29ff887a8dd3",
            "_model_module": "@jupyter-widgets/controls",
            "children": [
              "IPY_MODEL_893222f57c064759918d72722b576d2b",
              "IPY_MODEL_d542a1d551a34ae781906666e4e885d1"
            ]
          }
        },
        "05901ba894b94e11828e29ff887a8dd3": {
          "model_module": "@jupyter-widgets/base",
          "model_name": "LayoutModel",
          "state": {
            "_view_name": "LayoutView",
            "grid_template_rows": null,
            "right": null,
            "justify_content": null,
            "_view_module": "@jupyter-widgets/base",
            "overflow": null,
            "_model_module_version": "1.2.0",
            "_view_count": null,
            "flex_flow": null,
            "width": null,
            "min_width": null,
            "border": null,
            "align_items": null,
            "bottom": null,
            "_model_module": "@jupyter-widgets/base",
            "top": null,
            "grid_column": null,
            "overflow_y": null,
            "overflow_x": null,
            "grid_auto_flow": null,
            "grid_area": null,
            "grid_template_columns": null,
            "flex": null,
            "_model_name": "LayoutModel",
            "justify_items": null,
            "grid_row": null,
            "max_height": null,
            "align_content": null,
            "visibility": null,
            "align_self": null,
            "height": null,
            "min_height": null,
            "padding": null,
            "grid_auto_rows": null,
            "grid_gap": null,
            "max_width": null,
            "order": null,
            "_view_module_version": "1.2.0",
            "grid_template_areas": null,
            "object_position": null,
            "object_fit": null,
            "grid_auto_columns": null,
            "margin": null,
            "display": null,
            "left": null
          }
        },
        "893222f57c064759918d72722b576d2b": {
          "model_module": "@jupyter-widgets/controls",
          "model_name": "IntProgressModel",
          "state": {
            "_view_name": "ProgressView",
            "style": "IPY_MODEL_d1bfdc9a4021426db851ae3d3ed527d7",
            "_dom_classes": [],
            "description": "Downloading: 100%",
            "_model_name": "IntProgressModel",
            "bar_style": "success",
            "max": 231508,
            "_view_module": "@jupyter-widgets/controls",
            "_model_module_version": "1.5.0",
            "value": 231508,
            "_view_count": null,
            "_view_module_version": "1.5.0",
            "orientation": "horizontal",
            "min": 0,
            "description_tooltip": null,
            "_model_module": "@jupyter-widgets/controls",
            "layout": "IPY_MODEL_5fb4dedc51744fceb8c3029c5214821b"
          }
        },
        "d542a1d551a34ae781906666e4e885d1": {
          "model_module": "@jupyter-widgets/controls",
          "model_name": "HTMLModel",
          "state": {
            "_view_name": "HTMLView",
            "style": "IPY_MODEL_761f1c2324ee46159874f33ab0739652",
            "_dom_classes": [],
            "description": "",
            "_model_name": "HTMLModel",
            "placeholder": "​",
            "_view_module": "@jupyter-widgets/controls",
            "_model_module_version": "1.5.0",
            "value": " 232k/232k [00:00&lt;00:00, 634kB/s]",
            "_view_count": null,
            "_view_module_version": "1.5.0",
            "description_tooltip": null,
            "_model_module": "@jupyter-widgets/controls",
            "layout": "IPY_MODEL_435a6c9b439e4d5695590440f8170f4e"
          }
        },
        "d1bfdc9a4021426db851ae3d3ed527d7": {
          "model_module": "@jupyter-widgets/controls",
          "model_name": "ProgressStyleModel",
          "state": {
            "_view_name": "StyleView",
            "_model_name": "ProgressStyleModel",
            "description_width": "initial",
            "_view_module": "@jupyter-widgets/base",
            "_model_module_version": "1.5.0",
            "_view_count": null,
            "_view_module_version": "1.2.0",
            "bar_color": null,
            "_model_module": "@jupyter-widgets/controls"
          }
        },
        "5fb4dedc51744fceb8c3029c5214821b": {
          "model_module": "@jupyter-widgets/base",
          "model_name": "LayoutModel",
          "state": {
            "_view_name": "LayoutView",
            "grid_template_rows": null,
            "right": null,
            "justify_content": null,
            "_view_module": "@jupyter-widgets/base",
            "overflow": null,
            "_model_module_version": "1.2.0",
            "_view_count": null,
            "flex_flow": null,
            "width": null,
            "min_width": null,
            "border": null,
            "align_items": null,
            "bottom": null,
            "_model_module": "@jupyter-widgets/base",
            "top": null,
            "grid_column": null,
            "overflow_y": null,
            "overflow_x": null,
            "grid_auto_flow": null,
            "grid_area": null,
            "grid_template_columns": null,
            "flex": null,
            "_model_name": "LayoutModel",
            "justify_items": null,
            "grid_row": null,
            "max_height": null,
            "align_content": null,
            "visibility": null,
            "align_self": null,
            "height": null,
            "min_height": null,
            "padding": null,
            "grid_auto_rows": null,
            "grid_gap": null,
            "max_width": null,
            "order": null,
            "_view_module_version": "1.2.0",
            "grid_template_areas": null,
            "object_position": null,
            "object_fit": null,
            "grid_auto_columns": null,
            "margin": null,
            "display": null,
            "left": null
          }
        },
        "761f1c2324ee46159874f33ab0739652": {
          "model_module": "@jupyter-widgets/controls",
          "model_name": "DescriptionStyleModel",
          "state": {
            "_view_name": "StyleView",
            "_model_name": "DescriptionStyleModel",
            "description_width": "",
            "_view_module": "@jupyter-widgets/base",
            "_model_module_version": "1.5.0",
            "_view_count": null,
            "_view_module_version": "1.2.0",
            "_model_module": "@jupyter-widgets/controls"
          }
        },
        "435a6c9b439e4d5695590440f8170f4e": {
          "model_module": "@jupyter-widgets/base",
          "model_name": "LayoutModel",
          "state": {
            "_view_name": "LayoutView",
            "grid_template_rows": null,
            "right": null,
            "justify_content": null,
            "_view_module": "@jupyter-widgets/base",
            "overflow": null,
            "_model_module_version": "1.2.0",
            "_view_count": null,
            "flex_flow": null,
            "width": null,
            "min_width": null,
            "border": null,
            "align_items": null,
            "bottom": null,
            "_model_module": "@jupyter-widgets/base",
            "top": null,
            "grid_column": null,
            "overflow_y": null,
            "overflow_x": null,
            "grid_auto_flow": null,
            "grid_area": null,
            "grid_template_columns": null,
            "flex": null,
            "_model_name": "LayoutModel",
            "justify_items": null,
            "grid_row": null,
            "max_height": null,
            "align_content": null,
            "visibility": null,
            "align_self": null,
            "height": null,
            "min_height": null,
            "padding": null,
            "grid_auto_rows": null,
            "grid_gap": null,
            "max_width": null,
            "order": null,
            "_view_module_version": "1.2.0",
            "grid_template_areas": null,
            "object_position": null,
            "object_fit": null,
            "grid_auto_columns": null,
            "margin": null,
            "display": null,
            "left": null
          }
        },
        "a9157caed2b349a391d9d9911a6642bb": {
          "model_module": "@jupyter-widgets/controls",
          "model_name": "HBoxModel",
          "state": {
            "_view_name": "HBoxView",
            "_dom_classes": [],
            "_model_name": "HBoxModel",
            "_view_module": "@jupyter-widgets/controls",
            "_model_module_version": "1.5.0",
            "_view_count": null,
            "_view_module_version": "1.5.0",
            "box_style": "",
            "layout": "IPY_MODEL_9bfb07dfe7854c5f84d0e9b342871dbf",
            "_model_module": "@jupyter-widgets/controls",
            "children": [
              "IPY_MODEL_c38cfa52243341d7bd9be0fe989a7bd2",
              "IPY_MODEL_67741f8612504ae58c072013503b201d"
            ]
          }
        },
        "9bfb07dfe7854c5f84d0e9b342871dbf": {
          "model_module": "@jupyter-widgets/base",
          "model_name": "LayoutModel",
          "state": {
            "_view_name": "LayoutView",
            "grid_template_rows": null,
            "right": null,
            "justify_content": null,
            "_view_module": "@jupyter-widgets/base",
            "overflow": null,
            "_model_module_version": "1.2.0",
            "_view_count": null,
            "flex_flow": null,
            "width": null,
            "min_width": null,
            "border": null,
            "align_items": null,
            "bottom": null,
            "_model_module": "@jupyter-widgets/base",
            "top": null,
            "grid_column": null,
            "overflow_y": null,
            "overflow_x": null,
            "grid_auto_flow": null,
            "grid_area": null,
            "grid_template_columns": null,
            "flex": null,
            "_model_name": "LayoutModel",
            "justify_items": null,
            "grid_row": null,
            "max_height": null,
            "align_content": null,
            "visibility": null,
            "align_self": null,
            "height": null,
            "min_height": null,
            "padding": null,
            "grid_auto_rows": null,
            "grid_gap": null,
            "max_width": null,
            "order": null,
            "_view_module_version": "1.2.0",
            "grid_template_areas": null,
            "object_position": null,
            "object_fit": null,
            "grid_auto_columns": null,
            "margin": null,
            "display": null,
            "left": null
          }
        },
        "c38cfa52243341d7bd9be0fe989a7bd2": {
          "model_module": "@jupyter-widgets/controls",
          "model_name": "IntProgressModel",
          "state": {
            "_view_name": "ProgressView",
            "style": "IPY_MODEL_b5e42393c7df49a6b0909d6e42922eed",
            "_dom_classes": [],
            "description": "Downloading: 100%",
            "_model_name": "IntProgressModel",
            "bar_style": "success",
            "max": 546,
            "_view_module": "@jupyter-widgets/controls",
            "_model_module_version": "1.5.0",
            "value": 546,
            "_view_count": null,
            "_view_module_version": "1.5.0",
            "orientation": "horizontal",
            "min": 0,
            "description_tooltip": null,
            "_model_module": "@jupyter-widgets/controls",
            "layout": "IPY_MODEL_a9f919ae7eb94cecb385a034229c61e8"
          }
        },
        "67741f8612504ae58c072013503b201d": {
          "model_module": "@jupyter-widgets/controls",
          "model_name": "HTMLModel",
          "state": {
            "_view_name": "HTMLView",
            "style": "IPY_MODEL_a0cd830d6caa4b928585cfe2602ce9cc",
            "_dom_classes": [],
            "description": "",
            "_model_name": "HTMLModel",
            "placeholder": "​",
            "_view_module": "@jupyter-widgets/controls",
            "_model_module_version": "1.5.0",
            "value": " 546/546 [00:09&lt;00:00, 55.8B/s]",
            "_view_count": null,
            "_view_module_version": "1.5.0",
            "description_tooltip": null,
            "_model_module": "@jupyter-widgets/controls",
            "layout": "IPY_MODEL_6806199395644fcab0e9c7ff4b860b0f"
          }
        },
        "b5e42393c7df49a6b0909d6e42922eed": {
          "model_module": "@jupyter-widgets/controls",
          "model_name": "ProgressStyleModel",
          "state": {
            "_view_name": "StyleView",
            "_model_name": "ProgressStyleModel",
            "description_width": "initial",
            "_view_module": "@jupyter-widgets/base",
            "_model_module_version": "1.5.0",
            "_view_count": null,
            "_view_module_version": "1.2.0",
            "bar_color": null,
            "_model_module": "@jupyter-widgets/controls"
          }
        },
        "a9f919ae7eb94cecb385a034229c61e8": {
          "model_module": "@jupyter-widgets/base",
          "model_name": "LayoutModel",
          "state": {
            "_view_name": "LayoutView",
            "grid_template_rows": null,
            "right": null,
            "justify_content": null,
            "_view_module": "@jupyter-widgets/base",
            "overflow": null,
            "_model_module_version": "1.2.0",
            "_view_count": null,
            "flex_flow": null,
            "width": null,
            "min_width": null,
            "border": null,
            "align_items": null,
            "bottom": null,
            "_model_module": "@jupyter-widgets/base",
            "top": null,
            "grid_column": null,
            "overflow_y": null,
            "overflow_x": null,
            "grid_auto_flow": null,
            "grid_area": null,
            "grid_template_columns": null,
            "flex": null,
            "_model_name": "LayoutModel",
            "justify_items": null,
            "grid_row": null,
            "max_height": null,
            "align_content": null,
            "visibility": null,
            "align_self": null,
            "height": null,
            "min_height": null,
            "padding": null,
            "grid_auto_rows": null,
            "grid_gap": null,
            "max_width": null,
            "order": null,
            "_view_module_version": "1.2.0",
            "grid_template_areas": null,
            "object_position": null,
            "object_fit": null,
            "grid_auto_columns": null,
            "margin": null,
            "display": null,
            "left": null
          }
        },
        "a0cd830d6caa4b928585cfe2602ce9cc": {
          "model_module": "@jupyter-widgets/controls",
          "model_name": "DescriptionStyleModel",
          "state": {
            "_view_name": "StyleView",
            "_model_name": "DescriptionStyleModel",
            "description_width": "",
            "_view_module": "@jupyter-widgets/base",
            "_model_module_version": "1.5.0",
            "_view_count": null,
            "_view_module_version": "1.2.0",
            "_model_module": "@jupyter-widgets/controls"
          }
        },
        "6806199395644fcab0e9c7ff4b860b0f": {
          "model_module": "@jupyter-widgets/base",
          "model_name": "LayoutModel",
          "state": {
            "_view_name": "LayoutView",
            "grid_template_rows": null,
            "right": null,
            "justify_content": null,
            "_view_module": "@jupyter-widgets/base",
            "overflow": null,
            "_model_module_version": "1.2.0",
            "_view_count": null,
            "flex_flow": null,
            "width": null,
            "min_width": null,
            "border": null,
            "align_items": null,
            "bottom": null,
            "_model_module": "@jupyter-widgets/base",
            "top": null,
            "grid_column": null,
            "overflow_y": null,
            "overflow_x": null,
            "grid_auto_flow": null,
            "grid_area": null,
            "grid_template_columns": null,
            "flex": null,
            "_model_name": "LayoutModel",
            "justify_items": null,
            "grid_row": null,
            "max_height": null,
            "align_content": null,
            "visibility": null,
            "align_self": null,
            "height": null,
            "min_height": null,
            "padding": null,
            "grid_auto_rows": null,
            "grid_gap": null,
            "max_width": null,
            "order": null,
            "_view_module_version": "1.2.0",
            "grid_template_areas": null,
            "object_position": null,
            "object_fit": null,
            "grid_auto_columns": null,
            "margin": null,
            "display": null,
            "left": null
          }
        },
        "5f3cb52e949a41d08847e35293a1bd49": {
          "model_module": "@jupyter-widgets/controls",
          "model_name": "HBoxModel",
          "state": {
            "_view_name": "HBoxView",
            "_dom_classes": [],
            "_model_name": "HBoxModel",
            "_view_module": "@jupyter-widgets/controls",
            "_model_module_version": "1.5.0",
            "_view_count": null,
            "_view_module_version": "1.5.0",
            "box_style": "",
            "layout": "IPY_MODEL_0237b74c2ccc46b1a93ed85c55b08e81",
            "_model_module": "@jupyter-widgets/controls",
            "children": [
              "IPY_MODEL_bf227ec6cd1f4df5adbe40281b085bdc",
              "IPY_MODEL_0d3a7dd95dfa48c08fd626cb577292c4"
            ]
          }
        },
        "0237b74c2ccc46b1a93ed85c55b08e81": {
          "model_module": "@jupyter-widgets/base",
          "model_name": "LayoutModel",
          "state": {
            "_view_name": "LayoutView",
            "grid_template_rows": null,
            "right": null,
            "justify_content": null,
            "_view_module": "@jupyter-widgets/base",
            "overflow": null,
            "_model_module_version": "1.2.0",
            "_view_count": null,
            "flex_flow": null,
            "width": null,
            "min_width": null,
            "border": null,
            "align_items": null,
            "bottom": null,
            "_model_module": "@jupyter-widgets/base",
            "top": null,
            "grid_column": null,
            "overflow_y": null,
            "overflow_x": null,
            "grid_auto_flow": null,
            "grid_area": null,
            "grid_template_columns": null,
            "flex": null,
            "_model_name": "LayoutModel",
            "justify_items": null,
            "grid_row": null,
            "max_height": null,
            "align_content": null,
            "visibility": null,
            "align_self": null,
            "height": null,
            "min_height": null,
            "padding": null,
            "grid_auto_rows": null,
            "grid_gap": null,
            "max_width": null,
            "order": null,
            "_view_module_version": "1.2.0",
            "grid_template_areas": null,
            "object_position": null,
            "object_fit": null,
            "grid_auto_columns": null,
            "margin": null,
            "display": null,
            "left": null
          }
        },
        "bf227ec6cd1f4df5adbe40281b085bdc": {
          "model_module": "@jupyter-widgets/controls",
          "model_name": "IntProgressModel",
          "state": {
            "_view_name": "ProgressView",
            "style": "IPY_MODEL_298db4296650470087280a404f32aaf7",
            "_dom_classes": [],
            "description": "Downloading: 100%",
            "_model_name": "IntProgressModel",
            "bar_style": "success",
            "max": 267967963,
            "_view_module": "@jupyter-widgets/controls",
            "_model_module_version": "1.5.0",
            "value": 267967963,
            "_view_count": null,
            "_view_module_version": "1.5.0",
            "orientation": "horizontal",
            "min": 0,
            "description_tooltip": null,
            "_model_module": "@jupyter-widgets/controls",
            "layout": "IPY_MODEL_a2bc6e3765e3410a9f625e26a540ace0"
          }
        },
        "0d3a7dd95dfa48c08fd626cb577292c4": {
          "model_module": "@jupyter-widgets/controls",
          "model_name": "HTMLModel",
          "state": {
            "_view_name": "HTMLView",
            "style": "IPY_MODEL_fa76eeebccd84990b0b6dace3b4abffb",
            "_dom_classes": [],
            "description": "",
            "_model_name": "HTMLModel",
            "placeholder": "​",
            "_view_module": "@jupyter-widgets/controls",
            "_model_module_version": "1.5.0",
            "value": " 268M/268M [00:09&lt;00:00, 29.7MB/s]",
            "_view_count": null,
            "_view_module_version": "1.5.0",
            "description_tooltip": null,
            "_model_module": "@jupyter-widgets/controls",
            "layout": "IPY_MODEL_3213b2c4b3784fc3997c48ac34b5eb7f"
          }
        },
        "298db4296650470087280a404f32aaf7": {
          "model_module": "@jupyter-widgets/controls",
          "model_name": "ProgressStyleModel",
          "state": {
            "_view_name": "StyleView",
            "_model_name": "ProgressStyleModel",
            "description_width": "initial",
            "_view_module": "@jupyter-widgets/base",
            "_model_module_version": "1.5.0",
            "_view_count": null,
            "_view_module_version": "1.2.0",
            "bar_color": null,
            "_model_module": "@jupyter-widgets/controls"
          }
        },
        "a2bc6e3765e3410a9f625e26a540ace0": {
          "model_module": "@jupyter-widgets/base",
          "model_name": "LayoutModel",
          "state": {
            "_view_name": "LayoutView",
            "grid_template_rows": null,
            "right": null,
            "justify_content": null,
            "_view_module": "@jupyter-widgets/base",
            "overflow": null,
            "_model_module_version": "1.2.0",
            "_view_count": null,
            "flex_flow": null,
            "width": null,
            "min_width": null,
            "border": null,
            "align_items": null,
            "bottom": null,
            "_model_module": "@jupyter-widgets/base",
            "top": null,
            "grid_column": null,
            "overflow_y": null,
            "overflow_x": null,
            "grid_auto_flow": null,
            "grid_area": null,
            "grid_template_columns": null,
            "flex": null,
            "_model_name": "LayoutModel",
            "justify_items": null,
            "grid_row": null,
            "max_height": null,
            "align_content": null,
            "visibility": null,
            "align_self": null,
            "height": null,
            "min_height": null,
            "padding": null,
            "grid_auto_rows": null,
            "grid_gap": null,
            "max_width": null,
            "order": null,
            "_view_module_version": "1.2.0",
            "grid_template_areas": null,
            "object_position": null,
            "object_fit": null,
            "grid_auto_columns": null,
            "margin": null,
            "display": null,
            "left": null
          }
        },
        "fa76eeebccd84990b0b6dace3b4abffb": {
          "model_module": "@jupyter-widgets/controls",
          "model_name": "DescriptionStyleModel",
          "state": {
            "_view_name": "StyleView",
            "_model_name": "DescriptionStyleModel",
            "description_width": "",
            "_view_module": "@jupyter-widgets/base",
            "_model_module_version": "1.5.0",
            "_view_count": null,
            "_view_module_version": "1.2.0",
            "_model_module": "@jupyter-widgets/controls"
          }
        },
        "3213b2c4b3784fc3997c48ac34b5eb7f": {
          "model_module": "@jupyter-widgets/base",
          "model_name": "LayoutModel",
          "state": {
            "_view_name": "LayoutView",
            "grid_template_rows": null,
            "right": null,
            "justify_content": null,
            "_view_module": "@jupyter-widgets/base",
            "overflow": null,
            "_model_module_version": "1.2.0",
            "_view_count": null,
            "flex_flow": null,
            "width": null,
            "min_width": null,
            "border": null,
            "align_items": null,
            "bottom": null,
            "_model_module": "@jupyter-widgets/base",
            "top": null,
            "grid_column": null,
            "overflow_y": null,
            "overflow_x": null,
            "grid_auto_flow": null,
            "grid_area": null,
            "grid_template_columns": null,
            "flex": null,
            "_model_name": "LayoutModel",
            "justify_items": null,
            "grid_row": null,
            "max_height": null,
            "align_content": null,
            "visibility": null,
            "align_self": null,
            "height": null,
            "min_height": null,
            "padding": null,
            "grid_auto_rows": null,
            "grid_gap": null,
            "max_width": null,
            "order": null,
            "_view_module_version": "1.2.0",
            "grid_template_areas": null,
            "object_position": null,
            "object_fit": null,
            "grid_auto_columns": null,
            "margin": null,
            "display": null,
            "left": null
          }
        }
      }
    }
  },
  "cells": [
    {
      "cell_type": "markdown",
      "metadata": {
        "id": "GE5pfbxLBCnv"
      },
      "source": [
        "# *Textual Analysis of Company Business Models to   Explain Varying Exposures to Covid-19 Market Shock*    "
      ]
    },
    {
      "cell_type": "markdown",
      "metadata": {
        "id": "mVk0-RrC-WGl"
      },
      "source": [
        "Team 8 "
      ]
    },
    {
      "cell_type": "markdown",
      "metadata": {
        "id": "z9sK5y0AK80M"
      },
      "source": [
        "# Introduction\n",
        "The goal of this project is to understand the impact of COVID-19 on companies' financial performance. We will undertake an analysis of company business models to explore varying exposures to COVID-19 market shock and explain how stock returns vary across U.S companies and industries from January 1 to April 3, 2020.   \n",
        "Since **business description** is a brief summary of the business model, NLP Modelling (DistilBERT model) will be applied to predict YTD stock returns using companies' business descriptions. Other models (such as Naïve Bayes model) will be used to determine most predictive words for classification of 1 vs 0 labels.    \n",
        "\n",
        "In this project, we will use 3 datasets: \n",
        "* **BA870 Project Data 2020.xlsx** - include stock returns information of a large set of U.S. companies that are affected by the COVID-19 stock market shock between January 1 and April 3, 2020. \n",
        "* **business_description.csv** - the business descriptions scraped from Yahoo Finance and will be used to do textual analysis and predict stock returns\n",
        "* **sic.csv** -  SIC code and its corresponding industry and division. This will be merged with `BA870 Project Data 2020` data and `predicted results` to explore cross-sectional variation in Stock Returns. \n",
        "\n",
        "\n",
        "\n",
        "# Agenda:   \n",
        "\n",
        "* Scrape business description from Yahoo Finance\n",
        "\n",
        "* Data Cleaning\n",
        "\n",
        "* DistilBERT Model - Accuracy prediction\n",
        "\n",
        " * Logistic Regression\n",
        " * SVM Model\n",
        "\n",
        "*  Naïve Bayes Model\n",
        "\n",
        " * Textual Analysis\n",
        " * Industry Summary\n",
        "\n",
        "* Result Explaination"
      ]
    },
    {
      "cell_type": "markdown",
      "metadata": {
        "id": "5bsUIpUND8x9"
      },
      "source": [
        "## Preprocessing Steps"
      ]
    },
    {
      "cell_type": "markdown",
      "metadata": {
        "id": "atxZWNoC57Bx"
      },
      "source": [
        "### Load libraries"
      ]
    },
    {
      "cell_type": "code",
      "metadata": {
        "id": "OxMhkvTigKxY"
      },
      "source": [
        "# Install necessary Python libraries\n",
        "%%capture\n",
        "! pip install requests\n",
        "! pip install beautifulsoup4\n",
        "! pip install transformers"
      ],
      "execution_count": null,
      "outputs": []
    },
    {
      "cell_type": "code",
      "metadata": {
        "id": "RSgoS4s_B-cb"
      },
      "source": [
        "from bs4 import BeautifulSoup\n",
        "import requests\n",
        "import numpy as np\n",
        "import pandas as pd\n",
        "from sklearn.model_selection import train_test_split\n",
        "from sklearn.linear_model import LogisticRegression\n",
        "from sklearn.model_selection import GridSearchCV\n",
        "from sklearn.model_selection import cross_val_score\n",
        "from sklearn.metrics import classification_report, confusion_matrix\n",
        "import torch\n",
        "import transformers as ppb\n",
        "import matplotlib.pyplot as plt\n",
        "import warnings\n",
        "warnings.filterwarnings('ignore')"
      ],
      "execution_count": null,
      "outputs": []
    },
    {
      "cell_type": "markdown",
      "metadata": {
        "id": "16Y3Fq7sEPRD"
      },
      "source": [
        "### Import the project data"
      ]
    },
    {
      "cell_type": "code",
      "metadata": {
        "id": "2ChQGt_8gTAL",
        "outputId": "85afac86-bb26-4654-8254-9a9ba11c9b5d",
        "colab": {
          "resources": {
            "http://localhost:8080/nbextensions/google.colab/files.js": {
              "data": "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",
              "ok": true,
              "headers": [
                [
                  "content-type",
                  "application/javascript"
                ]
              ],
              "status": 200,
              "status_text": ""
            }
          },
          "base_uri": "https://localhost:8080/",
          "height": 74
        }
      },
      "source": [
        "from google.colab import files\n",
        "uploaded = files.upload()"
      ],
      "execution_count": null,
      "outputs": [
        {
          "output_type": "display_data",
          "data": {
            "text/html": [
              "\n",
              "     <input type=\"file\" id=\"files-56d351f9-1147-4da9-a9ca-f4c92ae338b1\" name=\"files[]\" multiple disabled />\n",
              "     <output id=\"result-56d351f9-1147-4da9-a9ca-f4c92ae338b1\">\n",
              "      Upload widget is only available when the cell has been executed in the\n",
              "      current browser session. Please rerun this cell to enable.\n",
              "      </output>\n",
              "      <script src=\"/nbextensions/google.colab/files.js\"></script> "
            ],
            "text/plain": [
              "<IPython.core.display.HTML object>"
            ]
          },
          "metadata": {
            "tags": []
          }
        },
        {
          "output_type": "stream",
          "text": [
            "Saving BA870 Project Data 2020.csv to BA870 Project Data 2020.csv\n"
          ],
          "name": "stdout"
        }
      ]
    },
    {
      "cell_type": "code",
      "metadata": {
        "id": "2b6_ICK16FU0"
      },
      "source": [
        "data = pd.read_excel('BA870 Project Data 2020.xlsx')"
      ],
      "execution_count": null,
      "outputs": []
    },
    {
      "cell_type": "markdown",
      "metadata": {
        "id": "HtOZxJ5-BfPu"
      },
      "source": [
        "# Scrape Business Description from Yahoo Finance"
      ]
    },
    {
      "cell_type": "markdown",
      "metadata": {
        "id": "LP0ii-GP5y_3"
      },
      "source": [
        "Use the ticker list from 'BA870 Project Data 2020.xlsx' to scrape business description from Yahoo Finance.   \n",
        "Results are stored as `description`."
      ]
    },
    {
      "cell_type": "code",
      "metadata": {
        "id": "KBnbhqtb5fDm"
      },
      "source": [
        "# create a ticker list\n",
        "ticker_list = data['tic']\n",
        "description = pd.DataFrame(columns = ['ticker', 'description'])\n",
        "description['ticker'] = ticker_list"
      ],
      "execution_count": null,
      "outputs": []
    },
    {
      "cell_type": "markdown",
      "metadata": {
        "id": "D9JoUOKuEa_S"
      },
      "source": [
        "### Scrape online"
      ]
    },
    {
      "cell_type": "code",
      "metadata": {
        "id": "R-3Hvjif1n0o"
      },
      "source": [
        "for tic in ticker_list:\n",
        "  try:\n",
        "    URL = 'https://finance.yahoo.com/quote/'+tic+'/profile'\n",
        "    page = requests.get(URL)\n",
        "    htmldata = BeautifulSoup(page.content,'html.parser') \n",
        "    Business_Description = htmldata.find('p',{'class':'Mt(15px) Lh(1.6)'}).text.strip()\n",
        "    description.loc[description['ticker'] == tic,'description'] = Business_Description\n",
        "  except AttributeError:\n",
        "    pass\n",
        "  continue"
      ],
      "execution_count": null,
      "outputs": []
    },
    {
      "cell_type": "markdown",
      "metadata": {
        "id": "7MnkyMxQwUSm"
      },
      "source": [
        "### Data Cleaning"
      ]
    },
    {
      "cell_type": "markdown",
      "metadata": {
        "id": "Dw7C36ADA663"
      },
      "source": [
        "Check if there's any missing business description."
      ]
    },
    {
      "cell_type": "code",
      "metadata": {
        "id": "QhKGpBykQ5Cu"
      },
      "source": [
        "description.isna().sum()"
      ],
      "execution_count": null,
      "outputs": []
    },
    {
      "cell_type": "code",
      "metadata": {
        "id": "zqm76lgG3c3s",
        "outputId": "d3f1a136-57b9-477d-b3dc-1af6fdf3394f",
        "colab": {
          "base_uri": "https://localhost:8080/",
          "height": 266
        }
      },
      "source": [
        "description[description['description'].isna()==True]"
      ],
      "execution_count": null,
      "outputs": [
        {
          "output_type": "execute_result",
          "data": {
            "text/html": [
              "<div>\n",
              "<style scoped>\n",
              "    .dataframe tbody tr th:only-of-type {\n",
              "        vertical-align: middle;\n",
              "    }\n",
              "\n",
              "    .dataframe tbody tr th {\n",
              "        vertical-align: top;\n",
              "    }\n",
              "\n",
              "    .dataframe thead th {\n",
              "        text-align: right;\n",
              "    }\n",
              "</style>\n",
              "<table border=\"1\" class=\"dataframe\">\n",
              "  <thead>\n",
              "    <tr style=\"text-align: right;\">\n",
              "      <th></th>\n",
              "      <th>ticker</th>\n",
              "      <th>description</th>\n",
              "    </tr>\n",
              "  </thead>\n",
              "  <tbody>\n",
              "    <tr>\n",
              "      <th>84</th>\n",
              "      <td>AMPYW</td>\n",
              "      <td>NaN</td>\n",
              "    </tr>\n",
              "    <tr>\n",
              "      <th>159</th>\n",
              "      <td>BF.B</td>\n",
              "      <td>NaN</td>\n",
              "    </tr>\n",
              "    <tr>\n",
              "      <th>189</th>\n",
              "      <td>BRK.B</td>\n",
              "      <td>NaN</td>\n",
              "    </tr>\n",
              "    <tr>\n",
              "      <th>486</th>\n",
              "      <td>FTSV</td>\n",
              "      <td>NaN</td>\n",
              "    </tr>\n",
              "    <tr>\n",
              "      <th>875</th>\n",
              "      <td>NVCR</td>\n",
              "      <td>NaN</td>\n",
              "    </tr>\n",
              "    <tr>\n",
              "      <th>1007</th>\n",
              "      <td>RARX</td>\n",
              "      <td>NaN</td>\n",
              "    </tr>\n",
              "    <tr>\n",
              "      <th>1048</th>\n",
              "      <td>RTN</td>\n",
              "      <td>NaN</td>\n",
              "    </tr>\n",
              "  </tbody>\n",
              "</table>\n",
              "</div>"
            ],
            "text/plain": [
              "     ticker description\n",
              "84    AMPYW         NaN\n",
              "159    BF.B         NaN\n",
              "189   BRK.B         NaN\n",
              "486    FTSV         NaN\n",
              "875    NVCR         NaN\n",
              "1007   RARX         NaN\n",
              "1048    RTN         NaN"
            ]
          },
          "metadata": {
            "tags": []
          },
          "execution_count": 9
        }
      ]
    },
    {
      "cell_type": "markdown",
      "metadata": {
        "id": "8JWXnGGUarP3"
      },
      "source": [
        "There are 7 companies don't have company description from scraping. The reason is that some of the tickers from WRDS don't match with Yahoo. In order to keep all companies' records, we decide to manually add back descriptions for companies with missing profiles."
      ]
    },
    {
      "cell_type": "code",
      "metadata": {
        "id": "3OHX_7V7Y4uZ"
      },
      "source": [
        "description.loc[description['ticker'] == \"AMPYW\", 'description'] = \"Amplify Energy Corp. is an independent oil and natural gas company, which engages in acquisition, development, exploration and production of oil and natural gas properties. It focuses on operations in the Rockies, offshore California, Oklahoma, East Texas & North Louisiana and South Texas. The company was founded in May 2017 and is headquartered in Houston, TX.\"\n",
        "description.loc[description['ticker'] == \"BF.B\", 'description'] = \"Brown-Forman Corporation manufactures, bottles, imports, exports, markets, and sells various alcoholic beverages worldwide. It provides spirits, wines, whiskey spirits, whiskey-based flavored liqueurs, ready-to-drink and ready-to-pour products, ready-to-drink cocktails, vodkas, tequilas, champagnes, brandy, bourbons, and liqueurs. The company offers its products primarily under the Jack Daniel's, Woodford Reserve, Canadian Mist, GlenDronach, BenRiach, Glenglassaugh, Old Forester, Early Times, Slane Irish Whiskey, Coopers' Craft, Early Times, el Jimador, Herradura, New Mix, Pepe Lopez, Antiguo, Finlandia, Korbel Champagne, and Sonoma-Cutrer brands. It is also involved in the sale of used barrels, bulk whiskey, and wine; and provision of contract bottling services. The company serves retail customers and consumers through distributors or state governments; and retailers, wholesalers, and provincial governments directly. Brown-Forman Corporation was founded in 1870 and is headquartered in Louisville, Kentucky.\"\n",
        "description.loc[description['ticker'] == \"BRK.B\", 'description'] = \"Berkshire Hathaway Inc., through its subsidiaries, engages in insurance, freight rail transportation, and utility businesses. It provides property, casualty, life, accident, and health insurance and reinsurance; and operates railroad systems in North America. The company also generates, transmits, stores, and distributes electricity from natural gas, coal, wind, solar, hydro, nuclear, and geothermal sources; operates natural gas distribution and storage facilities, interstate pipelines, and compressor and meter stations; and holds interest in coal mining assets. In addition, it offers real estate brokerage services; and leases transportation equipment and furniture. Further, the company manufactures boxed chocolates and other confectionery products; specialty chemicals, metal cutting tools, and components for aerospace and power generation applications; flooring, insulation, roofing and engineered, building and engineered components, paints and coatings, and bricks and masonry products, as well as offers homebuilding and manufactured housing finance; and recreational vehicles, apparel products, jewelry, and custom picture framing products, and alkaline batteries. Additionally, it manufactures castings, forgings, fasteners/fastener systems, and aerostructures; and seamless pipes, fittings, downhole casing and tubing, and various mill forms. The company distributes newspapers, televisions, and information; franchises and services quick service restaurants; distributes electronic components; and offers logistics services, grocery and foodservice distribution services, and professional aviation training and fractional aircraft ownership programs. It also retails automobiles; furniture, bedding, and accessories; household appliances, electronics, and computers; jewelry, watches, crystal, china, stemware, flatware, gifts, and collectibles; kitchenware; and motorcycle accessories. The company was incorporated in 1998 and is headquartered in Omaha, Nebraska.\"\n",
        "description.loc[description['ticker'] == \"FTSV\", 'description'] = \"Forty Seven is a clinical-stage immuno-oncology company focused on developing novel checkpoint therapies to activate macrophages in the fight against cancer. Forty Seven focus its efforts on targeting the CD47 pathway as a way to engage macrophages in fighting tumors.  Macrophages function as first responders, swallowing foreign and abnormal cells, including cancer cells, and mobilizing other components of the immune system including T cells and antibodies. Cancer cells use CD47, a don’t eat me signal, to evade detection by the immune system and subsequent destruction by macrophages.\"\n",
        "description.loc[description['ticker'] == \"NVCR\", 'description'] = \"NovoCure Ltd. develops treatment for tumors. Its platform is called the Tumor Treating Field which used electric fields tuned to specific frequencies to disrupt solid tumor cancer cell division. The company was founded by Yoram Palti in 2000 and is headquartered in St. Helier, Jersey.\"\n",
        "description.loc[description['ticker'] == \"RARX\", 'description'] = \"Rafarma Pharmaceuticals, Inc. engages in the manufacture and marketing of pharmaceutical goods. It produces all types medical drugs in all delivery methods for various pharmacological groups. The company was founded on May 26, 2004 and is headquartered in Sheridan, WY.\"\n",
        "description.loc[description['ticker'] == \"RTN\", 'description'] = \"Raytheon Technologies Corp. engages in the provision of aerospace and defense systems and services for commercial, military, and government customers. It operates through the following segments: Collins Aerospace Systems, Pratt and Whitney, Raytheon Intelligence and Space, and Raytheon Missiles and Defense. The Collins Aerospace Systems segment specializes in the aero structures, avionics, interiors, mechanical systems, mission systems, and power controls. The Pratt and Whitney segment includes design and manufacture of aircraft engines and auxiliary power systems for commercial, military, and business aircraft. The Raytheon Intelligence and Space segment involves in the development of sensors, training, and cyber and software solutions. The Raytheon Missiles and Defense segment offers end-to-end solutions to detect, track, and engage threats. The company was founded in 2020 and is headquartered in Waltham, MA.\""
      ],
      "execution_count": null,
      "outputs": []
    },
    {
      "cell_type": "markdown",
      "metadata": {
        "id": "-aW0iHp5boE7"
      },
      "source": [
        "Check again to make sure there's no more missing description"
      ]
    },
    {
      "cell_type": "code",
      "metadata": {
        "id": "4X-8LEfWbgLg",
        "outputId": "961d0656-2b1a-4e61-981b-1c5c8dc343b3",
        "colab": {
          "base_uri": "https://localhost:8080/",
          "height": 67
        }
      },
      "source": [
        "description.isna().sum()"
      ],
      "execution_count": null,
      "outputs": [
        {
          "output_type": "execute_result",
          "data": {
            "text/plain": [
              "ticker         0\n",
              "description    0\n",
              "dtype: int64"
            ]
          },
          "metadata": {
            "tags": []
          },
          "execution_count": 33
        }
      ]
    },
    {
      "cell_type": "markdown",
      "metadata": {
        "id": "OrbiC_DGgwis"
      },
      "source": [
        "Save the data into a csv file (with no missing value) so that we don't need to scrap description data from yahoo finance at every run time. "
      ]
    },
    {
      "cell_type": "code",
      "metadata": {
        "id": "F7J_LiDtelC1"
      },
      "source": [
        "description.to_csv('business_description.csv', index=False)"
      ],
      "execution_count": null,
      "outputs": []
    },
    {
      "cell_type": "markdown",
      "metadata": {
        "id": "myl4I6EgqnGg"
      },
      "source": [
        "## Merge two dataframes"
      ]
    },
    {
      "cell_type": "markdown",
      "metadata": {
        "id": "6mnPVLj1hVdD"
      },
      "source": [
        "Import the newly created `businses_descrption.csv` file to a dataframe"
      ]
    },
    {
      "cell_type": "code",
      "metadata": {
        "id": "aETinwQKYrhj",
        "outputId": "2f437eb6-54e1-49d8-ea81-721cff04c94a",
        "colab": {
          "resources": {
            "http://localhost:8080/nbextensions/google.colab/files.js": {
              "data": "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",
              "ok": true,
              "headers": [
                [
                  "content-type",
                  "application/javascript"
                ]
              ],
              "status": 200,
              "status_text": ""
            }
          },
          "base_uri": "https://localhost:8080/",
          "height": 74
        }
      },
      "source": [
        "from google.colab import files\n",
        "description = files.upload()"
      ],
      "execution_count": null,
      "outputs": [
        {
          "output_type": "display_data",
          "data": {
            "text/html": [
              "\n",
              "     <input type=\"file\" id=\"files-efe0d302-412c-4a25-b8ed-0368a5718afa\" name=\"files[]\" multiple disabled />\n",
              "     <output id=\"result-efe0d302-412c-4a25-b8ed-0368a5718afa\">\n",
              "      Upload widget is only available when the cell has been executed in the\n",
              "      current browser session. Please rerun this cell to enable.\n",
              "      </output>\n",
              "      <script src=\"/nbextensions/google.colab/files.js\"></script> "
            ],
            "text/plain": [
              "<IPython.core.display.HTML object>"
            ]
          },
          "metadata": {
            "tags": []
          }
        },
        {
          "output_type": "stream",
          "text": [
            "Saving business_description.csv to business_description.csv\n"
          ],
          "name": "stdout"
        }
      ]
    },
    {
      "cell_type": "code",
      "metadata": {
        "id": "VcK7Be-zhcHk",
        "outputId": "00b63426-a5d6-42fa-de3d-58993efc49e6",
        "colab": {
          "base_uri": "https://localhost:8080/",
          "height": 196
        }
      },
      "source": [
        "description = pd.read_csv('business_description.csv')\n",
        "description.head()"
      ],
      "execution_count": null,
      "outputs": [
        {
          "output_type": "execute_result",
          "data": {
            "text/html": [
              "<div>\n",
              "<style scoped>\n",
              "    .dataframe tbody tr th:only-of-type {\n",
              "        vertical-align: middle;\n",
              "    }\n",
              "\n",
              "    .dataframe tbody tr th {\n",
              "        vertical-align: top;\n",
              "    }\n",
              "\n",
              "    .dataframe thead th {\n",
              "        text-align: right;\n",
              "    }\n",
              "</style>\n",
              "<table border=\"1\" class=\"dataframe\">\n",
              "  <thead>\n",
              "    <tr style=\"text-align: right;\">\n",
              "      <th></th>\n",
              "      <th>ticker</th>\n",
              "      <th>description</th>\n",
              "    </tr>\n",
              "  </thead>\n",
              "  <tbody>\n",
              "    <tr>\n",
              "      <th>0</th>\n",
              "      <td>A</td>\n",
              "      <td>Agilent Technologies, Inc. provides applicatio...</td>\n",
              "    </tr>\n",
              "    <tr>\n",
              "      <th>1</th>\n",
              "      <td>AAL</td>\n",
              "      <td>American Airlines Group Inc., through its subs...</td>\n",
              "    </tr>\n",
              "    <tr>\n",
              "      <th>2</th>\n",
              "      <td>AAON</td>\n",
              "      <td>AAON, Inc., together with its subsidiaries, en...</td>\n",
              "    </tr>\n",
              "    <tr>\n",
              "      <th>3</th>\n",
              "      <td>AAP</td>\n",
              "      <td>Advance Auto Parts, Inc. provides automotive r...</td>\n",
              "    </tr>\n",
              "    <tr>\n",
              "      <th>4</th>\n",
              "      <td>AAPL</td>\n",
              "      <td>Apple Inc. designs, manufactures, and markets ...</td>\n",
              "    </tr>\n",
              "  </tbody>\n",
              "</table>\n",
              "</div>"
            ],
            "text/plain": [
              "  ticker                                        description\n",
              "0      A  Agilent Technologies, Inc. provides applicatio...\n",
              "1    AAL  American Airlines Group Inc., through its subs...\n",
              "2   AAON  AAON, Inc., together with its subsidiaries, en...\n",
              "3    AAP  Advance Auto Parts, Inc. provides automotive r...\n",
              "4   AAPL  Apple Inc. designs, manufactures, and markets ..."
            ]
          },
          "metadata": {
            "tags": []
          },
          "execution_count": 6
        }
      ]
    },
    {
      "cell_type": "markdown",
      "metadata": {
        "id": "MjJEQHm3EWLc"
      },
      "source": [
        "Merge description and original project data and name it as **new**, The new dataset include variabls: `ticker`, `description` and `YTD Ret` only. "
      ]
    },
    {
      "cell_type": "code",
      "metadata": {
        "id": "0wT3G46DpQWl",
        "outputId": "11626483-ec7c-4cbe-9e67-50abd9e2b904",
        "colab": {
          "base_uri": "https://localhost:8080/",
          "height": 196
        }
      },
      "source": [
        "new = pd.merge(description, data, how='inner', left_on=['ticker'], right_on = ['tic'])\n",
        "new = new[['ticker', 'description', 'YTD Ret']]\n",
        "new.head()"
      ],
      "execution_count": null,
      "outputs": [
        {
          "output_type": "execute_result",
          "data": {
            "text/html": [
              "<div>\n",
              "<style scoped>\n",
              "    .dataframe tbody tr th:only-of-type {\n",
              "        vertical-align: middle;\n",
              "    }\n",
              "\n",
              "    .dataframe tbody tr th {\n",
              "        vertical-align: top;\n",
              "    }\n",
              "\n",
              "    .dataframe thead th {\n",
              "        text-align: right;\n",
              "    }\n",
              "</style>\n",
              "<table border=\"1\" class=\"dataframe\">\n",
              "  <thead>\n",
              "    <tr style=\"text-align: right;\">\n",
              "      <th></th>\n",
              "      <th>ticker</th>\n",
              "      <th>description</th>\n",
              "      <th>YTD Ret</th>\n",
              "    </tr>\n",
              "  </thead>\n",
              "  <tbody>\n",
              "    <tr>\n",
              "      <th>0</th>\n",
              "      <td>A</td>\n",
              "      <td>Agilent Technologies, Inc. provides applicatio...</td>\n",
              "      <td>-0.1745</td>\n",
              "    </tr>\n",
              "    <tr>\n",
              "      <th>1</th>\n",
              "      <td>AAL</td>\n",
              "      <td>American Airlines Group Inc., through its subs...</td>\n",
              "      <td>-0.6726</td>\n",
              "    </tr>\n",
              "    <tr>\n",
              "      <th>2</th>\n",
              "      <td>AAON</td>\n",
              "      <td>AAON, Inc., together with its subsidiaries, en...</td>\n",
              "      <td>-0.0911</td>\n",
              "    </tr>\n",
              "    <tr>\n",
              "      <th>3</th>\n",
              "      <td>AAP</td>\n",
              "      <td>Advance Auto Parts, Inc. provides automotive r...</td>\n",
              "      <td>-0.4715</td>\n",
              "    </tr>\n",
              "    <tr>\n",
              "      <th>4</th>\n",
              "      <td>AAPL</td>\n",
              "      <td>Apple Inc. designs, manufactures, and markets ...</td>\n",
              "      <td>-0.1779</td>\n",
              "    </tr>\n",
              "  </tbody>\n",
              "</table>\n",
              "</div>"
            ],
            "text/plain": [
              "  ticker                                        description  YTD Ret\n",
              "0      A  Agilent Technologies, Inc. provides applicatio...  -0.1745\n",
              "1    AAL  American Airlines Group Inc., through its subs...  -0.6726\n",
              "2   AAON  AAON, Inc., together with its subsidiaries, en...  -0.0911\n",
              "3    AAP  Advance Auto Parts, Inc. provides automotive r...  -0.4715\n",
              "4   AAPL  Apple Inc. designs, manufactures, and markets ...  -0.1779"
            ]
          },
          "metadata": {
            "tags": []
          },
          "execution_count": 7
        }
      ]
    },
    {
      "cell_type": "markdown",
      "metadata": {
        "id": "3N9caWwBCboP"
      },
      "source": [
        "## Descriptive Statistics"
      ]
    },
    {
      "cell_type": "markdown",
      "metadata": {
        "id": "BJUSNf3R7SLi"
      },
      "source": [
        "### Plot YTD Return"
      ]
    },
    {
      "cell_type": "code",
      "metadata": {
        "id": "PW2h1XRQk9pZ",
        "outputId": "c2cf0056-c57d-4962-dce4-162c51a9df4f",
        "colab": {
          "base_uri": "https://localhost:8080/",
          "height": 265
        }
      },
      "source": [
        "plt.hist(new['YTD Ret'], bins= 40)\n",
        "plt.show()"
      ],
      "execution_count": null,
      "outputs": [
        {
          "output_type": "display_data",
          "data": {
            "image/png": "[encoded data removed]",
            "text/plain": [
              "<Figure size 432x288 with 1 Axes>"
            ]
          },
          "metadata": {
            "tags": [],
            "needs_background": "light"
          }
        }
      ]
    },
    {
      "cell_type": "markdown",
      "metadata": {
        "id": "vc30JFIlNSTk"
      },
      "source": [
        "As shown by the plot, a majority of companies have YTD returns less than 0, but the spread still satisfies normal distribution with a few extreme values larger than 0.5. Thus, we decided to use **median** as a metric to assign YTD return labels. This can help avoid the influence of extreme values. "
      ]
    },
    {
      "cell_type": "markdown",
      "metadata": {
        "id": "RWqaMUewl3KT"
      },
      "source": [
        "### Creating Dummy Variable - Label"
      ]
    },
    {
      "cell_type": "markdown",
      "metadata": {
        "id": "2BVQ7bZSqf_o"
      },
      "source": [
        "Using the Excel spreadsheet of 1,361 companies with stock returns, create a dummy variable by assigning labels to those companies. Firms whose YTD Return is above the median (50%)  has a label of `1` and conversely, firms whose YTD Return is  below the median(50%) has a label of `0`."
      ]
    },
    {
      "cell_type": "code",
      "metadata": {
        "id": "ZGzzs7SXmCA4"
      },
      "source": [
        "new.loc[new['YTD Ret'] >= new['YTD Ret'].median(), 'label'] = 1\n",
        "new.loc[new['YTD Ret'] < new['YTD Ret'].median(), 'label'] = 0"
      ],
      "execution_count": null,
      "outputs": []
    },
    {
      "cell_type": "code",
      "metadata": {
        "id": "xh-EFD-5CLUb",
        "outputId": "e1c1fc02-6153-4c90-8f1c-8b7289a5c4ff",
        "colab": {
          "base_uri": "https://localhost:8080/",
          "height": 286
        }
      },
      "source": [
        "new.describe()"
      ],
      "execution_count": null,
      "outputs": [
        {
          "output_type": "execute_result",
          "data": {
            "text/html": [
              "<div>\n",
              "<style scoped>\n",
              "    .dataframe tbody tr th:only-of-type {\n",
              "        vertical-align: middle;\n",
              "    }\n",
              "\n",
              "    .dataframe tbody tr th {\n",
              "        vertical-align: top;\n",
              "    }\n",
              "\n",
              "    .dataframe thead th {\n",
              "        text-align: right;\n",
              "    }\n",
              "</style>\n",
              "<table border=\"1\" class=\"dataframe\">\n",
              "  <thead>\n",
              "    <tr style=\"text-align: right;\">\n",
              "      <th></th>\n",
              "      <th>YTD Ret</th>\n",
              "      <th>label</th>\n",
              "    </tr>\n",
              "  </thead>\n",
              "  <tbody>\n",
              "    <tr>\n",
              "      <th>count</th>\n",
              "      <td>1361.000000</td>\n",
              "      <td>1361.000000</td>\n",
              "    </tr>\n",
              "    <tr>\n",
              "      <th>mean</th>\n",
              "      <td>-0.315511</td>\n",
              "      <td>0.500367</td>\n",
              "    </tr>\n",
              "    <tr>\n",
              "      <th>std</th>\n",
              "      <td>0.241728</td>\n",
              "      <td>0.500184</td>\n",
              "    </tr>\n",
              "    <tr>\n",
              "      <th>min</th>\n",
              "      <td>-0.925700</td>\n",
              "      <td>0.000000</td>\n",
              "    </tr>\n",
              "    <tr>\n",
              "      <th>25%</th>\n",
              "      <td>-0.465200</td>\n",
              "      <td>0.000000</td>\n",
              "    </tr>\n",
              "    <tr>\n",
              "      <th>50%</th>\n",
              "      <td>-0.329500</td>\n",
              "      <td>1.000000</td>\n",
              "    </tr>\n",
              "    <tr>\n",
              "      <th>75%</th>\n",
              "      <td>-0.185500</td>\n",
              "      <td>1.000000</td>\n",
              "    </tr>\n",
              "    <tr>\n",
              "      <th>max</th>\n",
              "      <td>1.701900</td>\n",
              "      <td>1.000000</td>\n",
              "    </tr>\n",
              "  </tbody>\n",
              "</table>\n",
              "</div>"
            ],
            "text/plain": [
              "           YTD Ret        label\n",
              "count  1361.000000  1361.000000\n",
              "mean     -0.315511     0.500367\n",
              "std       0.241728     0.500184\n",
              "min      -0.925700     0.000000\n",
              "25%      -0.465200     0.000000\n",
              "50%      -0.329500     1.000000\n",
              "75%      -0.185500     1.000000\n",
              "max       1.701900     1.000000"
            ]
          },
          "metadata": {
            "tags": []
          },
          "execution_count": 10
        }
      ]
    },
    {
      "cell_type": "markdown",
      "metadata": {
        "id": "fb-W4wo8CLUp"
      },
      "source": [
        "Descriptive statistics give us some first sights of the dataset. `YTD Ret` has in total of 1361 observations, most of them are negative returns. The maximum return is 1.7019 and the minimum return is -0.9257. `Label` is a dummy variable which consists of 1 and 0 only."
      ]
    },
    {
      "cell_type": "markdown",
      "metadata": {
        "id": "-kykOum6cgXe"
      },
      "source": [
        "# DistilBERT model"
      ]
    },
    {
      "cell_type": "markdown",
      "metadata": {
        "id": "SF9DkH-LtNNF"
      },
      "source": [
        "## Loading the Pre-trained DistilBERT model\n",
        "Let's now load a pre-trained distilBERT model. "
      ]
    },
    {
      "cell_type": "code",
      "metadata": {
        "id": "PcmVgoAssOrp",
        "outputId": "bec0300a-78f4-4a99-d7db-0caaa09cc59b",
        "colab": {
          "base_uri": "https://localhost:8080/",
          "height": 163,
          "referenced_widgets": [
            "a0743ef45afd407aa54a6c8cdd7c9fc0",
            "05901ba894b94e11828e29ff887a8dd3",
            "893222f57c064759918d72722b576d2b",
            "d542a1d551a34ae781906666e4e885d1",
            "d1bfdc9a4021426db851ae3d3ed527d7",
            "5fb4dedc51744fceb8c3029c5214821b",
            "761f1c2324ee46159874f33ab0739652",
            "435a6c9b439e4d5695590440f8170f4e",
            "a9157caed2b349a391d9d9911a6642bb",
            "9bfb07dfe7854c5f84d0e9b342871dbf",
            "c38cfa52243341d7bd9be0fe989a7bd2",
            "67741f8612504ae58c072013503b201d",
            "b5e42393c7df49a6b0909d6e42922eed",
            "a9f919ae7eb94cecb385a034229c61e8",
            "a0cd830d6caa4b928585cfe2602ce9cc",
            "6806199395644fcab0e9c7ff4b860b0f",
            "5f3cb52e949a41d08847e35293a1bd49",
            "0237b74c2ccc46b1a93ed85c55b08e81",
            "bf227ec6cd1f4df5adbe40281b085bdc",
            "0d3a7dd95dfa48c08fd626cb577292c4",
            "298db4296650470087280a404f32aaf7",
            "a2bc6e3765e3410a9f625e26a540ace0",
            "fa76eeebccd84990b0b6dace3b4abffb",
            "3213b2c4b3784fc3997c48ac34b5eb7f"
          ]
        }
      },
      "source": [
        "# For DistilBERT:\n",
        "model_class, tokenizer_class, pretrained_weights = (ppb.DistilBertModel, ppb.DistilBertTokenizer, 'distilbert-base-uncased')\n",
        "\n",
        "# Load pretrained model/tokenizer\n",
        "tokenizer = tokenizer_class.from_pretrained(pretrained_weights)\n",
        "model = model_class.from_pretrained(pretrained_weights)"
      ],
      "execution_count": null,
      "outputs": [
        {
          "output_type": "display_data",
          "data": {
            "application/vnd.jupyter.widget-view+json": {
              "model_id": "a0743ef45afd407aa54a6c8cdd7c9fc0",
              "version_minor": 0,
              "version_major": 2
            },
            "text/plain": [
              "HBox(children=(IntProgress(value=0, description='Downloading', max=231508, style=ProgressStyle(description_wid…"
            ]
          },
          "metadata": {
            "tags": []
          }
        },
        {
          "output_type": "stream",
          "text": [
            "\n"
          ],
          "name": "stdout"
        },
        {
          "output_type": "display_data",
          "data": {
            "application/vnd.jupyter.widget-view+json": {
              "model_id": "a9157caed2b349a391d9d9911a6642bb",
              "version_minor": 0,
              "version_major": 2
            },
            "text/plain": [
              "HBox(children=(IntProgress(value=0, description='Downloading', max=546, style=ProgressStyle(description_width=…"
            ]
          },
          "metadata": {
            "tags": []
          }
        },
        {
          "output_type": "stream",
          "text": [
            "\n"
          ],
          "name": "stdout"
        },
        {
          "output_type": "display_data",
          "data": {
            "application/vnd.jupyter.widget-view+json": {
              "model_id": "5f3cb52e949a41d08847e35293a1bd49",
              "version_minor": 0,
              "version_major": 2
            },
            "text/plain": [
              "HBox(children=(IntProgress(value=0, description='Downloading', max=267967963, style=ProgressStyle(description_…"
            ]
          },
          "metadata": {
            "tags": []
          }
        },
        {
          "output_type": "stream",
          "text": [
            "\n"
          ],
          "name": "stdout"
        }
      ]
    },
    {
      "cell_type": "markdown",
      "metadata": {
        "id": "FDI7bsJEtUcq"
      },
      "source": [
        "Right now, the variable `model` holds a pre-trained distilBERT model."
      ]
    },
    {
      "cell_type": "markdown",
      "metadata": {
        "id": "ydH5FnhctXp0"
      },
      "source": [
        "## Preparing the Dataset\n",
        "Before we can hand our sentences to BERT, we need to do some minimal processing to put them in the format it requires."
      ]
    },
    {
      "cell_type": "markdown",
      "metadata": {
        "id": "UXwiy8h2tdUw"
      },
      "source": [
        "### Tokenization  \n",
        "\n",
        "Our first step is to tokenize the sentences -- break them up into word and subwords in the format BERT is comfortable with."
      ]
    },
    {
      "cell_type": "code",
      "metadata": {
        "id": "72B7KQKruJjr",
        "outputId": "43cda8b2-c0ca-469a-ab9d-6f6608db4918",
        "colab": {
          "base_uri": "https://localhost:8080/",
          "height": 33
        }
      },
      "source": [
        "length = new['description'].apply(lambda x: len(x.split()))\n",
        "max(length)"
      ],
      "execution_count": null,
      "outputs": [
        {
          "output_type": "execute_result",
          "data": {
            "text/plain": [
              "322"
            ]
          },
          "metadata": {
            "tags": []
          },
          "execution_count": 12
        }
      ]
    },
    {
      "cell_type": "markdown",
      "metadata": {
        "id": "2bM_IzzNFkmn"
      },
      "source": [
        "We first check the length of company description, and we find that the longest description contains 322 words. In order to save memory, we limit the tokenization length to 322."
      ]
    },
    {
      "cell_type": "code",
      "metadata": {
        "id": "Moy0T_XptfXX"
      },
      "source": [
        "tokenized = new['description'].apply((lambda x: tokenizer.encode(x, add_special_tokens=True, max_length=322)))"
      ],
      "execution_count": null,
      "outputs": []
    },
    {
      "cell_type": "markdown",
      "metadata": {
        "id": "O4hESFxrtvyu"
      },
      "source": [
        "### Padding  \n",
        "After tokenization, `tokenized` is a list of sentences -- each sentences is represented as a list of tokens. We want BERT to process our examples all at once (as one batch). It's just faster that way. For that reason, we need to pad all lists to the same size, so we can represent the input as one 2-d array, rather than a list of lists (of different lengths)."
      ]
    },
    {
      "cell_type": "code",
      "metadata": {
        "id": "p1AI4pOEtyGh"
      },
      "source": [
        "max_len = 0\n",
        "for i in tokenized.values:\n",
        "    if len(i) > max_len:\n",
        "        max_len = len(i)\n",
        "\n",
        "padded = np.array([i + [0]*(max_len-len(i)) for i in tokenized.values])"
      ],
      "execution_count": null,
      "outputs": []
    },
    {
      "cell_type": "markdown",
      "metadata": {
        "id": "DKjHAwiAH4Yd"
      },
      "source": [
        "Our dataset is now in the padded variable, we can view its dimensions below:"
      ]
    },
    {
      "cell_type": "code",
      "metadata": {
        "id": "0KmJHuxxIE_s",
        "outputId": "15f01cca-1078-406b-ec9b-8aba32a8c44c",
        "colab": {
          "base_uri": "https://localhost:8080/",
          "height": 33
        }
      },
      "source": [
        "padded.shape"
      ],
      "execution_count": null,
      "outputs": [
        {
          "output_type": "execute_result",
          "data": {
            "text/plain": [
              "(1361, 322)"
            ]
          },
          "metadata": {
            "tags": []
          },
          "execution_count": 15
        }
      ]
    },
    {
      "cell_type": "markdown",
      "metadata": {
        "id": "pb4RZrsZH3cw"
      },
      "source": [
        "That's what `padded` result is:"
      ]
    },
    {
      "cell_type": "code",
      "metadata": {
        "id": "QgSuANxQt_QB",
        "outputId": "5da0a088-2c30-4b7c-b187-ad67aa353cdd",
        "colab": {
          "base_uri": "https://localhost:8080/",
          "height": 134
        }
      },
      "source": [
        "padded"
      ],
      "execution_count": null,
      "outputs": [
        {
          "output_type": "execute_result",
          "data": {
            "text/plain": [
              "array([[  101, 29003,  3372, ..., 16053,  2578,   102],\n",
              "       [  101,  2137,  7608, ...,     0,     0,     0],\n",
              "       [  101,  9779,  2239, ...,     0,     0,     0],\n",
              "       ...,\n",
              "       [  101,  1062,  6038, ...,     0,     0,     0],\n",
              "       [  101,  1062, 15782, ...,     0,     0,     0],\n",
              "       [  101, 11199,  7315, ...,  2001,  2631,   102]])"
            ]
          },
          "metadata": {
            "tags": []
          },
          "execution_count": 16
        }
      ]
    },
    {
      "cell_type": "markdown",
      "metadata": {
        "id": "FWFVnbqouCMO"
      },
      "source": [
        "### Masking\n",
        "\n",
        "If we directly send `padded` to BERT, that would slightly confuse it. We need to create another variable to tell it to ignore (mask) the padding we've added when it's processing its input. "
      ]
    },
    {
      "cell_type": "code",
      "metadata": {
        "id": "a4ueLd-1uEPs",
        "outputId": "594a67de-5d98-47dd-ee06-5a2d7aa6174e",
        "colab": {
          "base_uri": "https://localhost:8080/",
          "height": 33
        }
      },
      "source": [
        "attention_mask = np.where(padded != 0, 1, 0)\n",
        "\n",
        "# check the dimension of mask\n",
        "attention_mask.shape"
      ],
      "execution_count": null,
      "outputs": [
        {
          "output_type": "execute_result",
          "data": {
            "text/plain": [
              "(1361, 322)"
            ]
          },
          "metadata": {
            "tags": []
          },
          "execution_count": 17
        }
      ]
    },
    {
      "cell_type": "markdown",
      "metadata": {
        "id": "LCddaL6luH-B"
      },
      "source": [
        "That's what `attention_mask` is:"
      ]
    },
    {
      "cell_type": "code",
      "metadata": {
        "id": "D_uNeYj5uIiZ",
        "outputId": "d8ab03ff-dab1-4a2a-d02c-5d5e17fe4d0e",
        "colab": {
          "base_uri": "https://localhost:8080/",
          "height": 134
        }
      },
      "source": [
        "attention_mask"
      ],
      "execution_count": null,
      "outputs": [
        {
          "output_type": "execute_result",
          "data": {
            "text/plain": [
              "array([[1, 1, 1, ..., 1, 1, 1],\n",
              "       [1, 1, 1, ..., 0, 0, 0],\n",
              "       [1, 1, 1, ..., 0, 0, 0],\n",
              "       ...,\n",
              "       [1, 1, 1, ..., 0, 0, 0],\n",
              "       [1, 1, 1, ..., 0, 0, 0],\n",
              "       [1, 1, 1, ..., 1, 1, 1]])"
            ]
          },
          "metadata": {
            "tags": []
          },
          "execution_count": 18
        }
      ]
    },
    {
      "cell_type": "markdown",
      "metadata": {
        "id": "g0tZkuPcuNNS"
      },
      "source": [
        "## Train DistilBERT Model\n",
        "\n",
        "To predict stock YTD return label (1 or 0) for a training sample."
      ]
    },
    {
      "cell_type": "markdown",
      "metadata": {
        "id": "EYm2oVi0uogX"
      },
      "source": [
        "### Deep Learning   \n",
        "\n",
        "Now that we have our model and inputs ready, we can run our model.\n",
        "\n",
        "The `model()` function runs our sentences through BERT. The results of the processing will be returned into `last_hidden_states`."
      ]
    },
    {
      "cell_type": "code",
      "metadata": {
        "id": "hAWkIzT5uMPq"
      },
      "source": [
        "input_ids = torch.tensor(padded)  \n",
        "attention_mask = torch.tensor(attention_mask)\n",
        "\n",
        "with torch.no_grad():\n",
        "    last_hidden_states = model(input_ids, attention_mask=attention_mask)"
      ],
      "execution_count": null,
      "outputs": []
    },
    {
      "cell_type": "markdown",
      "metadata": {
        "id": "yBWtIkcbutYe"
      },
      "source": [
        "We'll save those in the features variable, as they'll serve as the features to our logitics regression model."
      ]
    },
    {
      "cell_type": "code",
      "metadata": {
        "id": "qslIABW0vOi_"
      },
      "source": [
        "features = last_hidden_states[0][:,0,:].numpy()\n",
        "labels = new['label']"
      ],
      "execution_count": null,
      "outputs": []
    },
    {
      "cell_type": "markdown",
      "metadata": {
        "id": "UPIxhqXhxKUq"
      },
      "source": [
        "### Train/Test Split\n",
        "We will randomly sample 70% of data as a trainning set and 30% of data as a test set. "
      ]
    },
    {
      "cell_type": "code",
      "metadata": {
        "id": "dPhaBWZI8F0Y"
      },
      "source": [
        "split = pd.DataFrame()\n",
        "split['train'] = np.zeros(1361)\n",
        "index = split.train.sample(frac = 0.7, random_state = 0).index.tolist()\n",
        "split.at[index, 'train'] = 1"
      ],
      "execution_count": null,
      "outputs": []
    },
    {
      "cell_type": "code",
      "metadata": {
        "id": "fdUv0yA7811h"
      },
      "source": [
        "train_features, test_features = features[split['train']==1], features[split['train']==0]\n",
        "train_labels, test_labels = labels[split['train']==1], labels[split['train']==0]"
      ],
      "execution_count": null,
      "outputs": []
    },
    {
      "cell_type": "markdown",
      "metadata": {
        "id": "tMvJH94YxhIl"
      },
      "source": [
        "## Logistic Regression Model"
      ]
    },
    {
      "cell_type": "code",
      "metadata": {
        "id": "ryHuUZsjxi29",
        "outputId": "42f6efad-a949-42c4-83dd-bd237c25bbea",
        "colab": {
          "base_uri": "https://localhost:8080/",
          "height": 100
        }
      },
      "source": [
        "lr_clf = LogisticRegression()\n",
        "lr_clf.fit(train_features, train_labels)"
      ],
      "execution_count": null,
      "outputs": [
        {
          "output_type": "execute_result",
          "data": {
            "text/plain": [
              "LogisticRegression(C=1.0, class_weight=None, dual=False, fit_intercept=True,\n",
              "                   intercept_scaling=1, l1_ratio=None, max_iter=100,\n",
              "                   multi_class='auto', n_jobs=None, penalty='l2',\n",
              "                   random_state=None, solver='lbfgs', tol=0.0001, verbose=0,\n",
              "                   warm_start=False)"
            ]
          },
          "metadata": {
            "tags": []
          },
          "execution_count": 23
        }
      ]
    },
    {
      "cell_type": "code",
      "metadata": {
        "id": "GjRLaaFhHXvD",
        "outputId": "cfc917b5-2ee5-4e45-c225-0175a1c6d649",
        "colab": {
          "base_uri": "https://localhost:8080/",
          "height": 33
        }
      },
      "source": [
        "lr_clf.score(test_features, test_labels)"
      ],
      "execution_count": null,
      "outputs": [
        {
          "output_type": "execute_result",
          "data": {
            "text/plain": [
              "0.7009803921568627"
            ]
          },
          "metadata": {
            "tags": []
          },
          "execution_count": 24
        }
      ]
    },
    {
      "cell_type": "markdown",
      "metadata": {
        "id": "QUbSHvq0xrBg"
      },
      "source": [
        "Running the logistic regression on the test set returns an accuracy score of **70.1%**.  "
      ]
    },
    {
      "cell_type": "code",
      "metadata": {
        "id": "vOVS06CDHVHW",
        "outputId": "dc2635e3-cd77-4131-c090-9a07c6de3fe2",
        "colab": {
          "base_uri": "https://localhost:8080/",
          "height": 50
        }
      },
      "source": [
        "test_pred = lr_clf.predict(test_features)\n",
        "print(confusion_matrix(test_labels,test_pred))"
      ],
      "execution_count": null,
      "outputs": [
        {
          "output_type": "stream",
          "text": [
            "[[140  59]\n",
            " [ 63 146]]\n"
          ],
          "name": "stdout"
        }
      ]
    },
    {
      "cell_type": "markdown",
      "metadata": {
        "id": "twxlm430-Wdq"
      },
      "source": [
        "Here's the confusion matrix table:"
      ]
    },
    {
      "cell_type": "markdown",
      "metadata": {
        "id": "_xHy_v5W8F7u"
      },
      "source": [
        "Confusion Matrix | Positives | Negatives\n",
        "--- | ---  |---\n",
        "Positives |  True Positive 140 | False Positive 59  \n",
        "Negatives |  False Negative 63 | True Negative 146 \n"
      ]
    },
    {
      "cell_type": "markdown",
      "metadata": {
        "id": "64wy_v0eQnjV"
      },
      "source": [
        "As showed by both the score and the confusion matrix, the Logistic Regression Model can accurately predict most of the labels. "
      ]
    },
    {
      "cell_type": "markdown",
      "metadata": {
        "id": "3wiKgcWNxSFp"
      },
      "source": [
        "## Support Vector Machine Model (SVM)"
      ]
    },
    {
      "cell_type": "code",
      "metadata": {
        "id": "EJ1egOgO4lAo",
        "outputId": "71a22c59-7dce-4769-9f1a-c6cea7f606ba",
        "colab": {
          "base_uri": "https://localhost:8080/",
          "height": 84
        }
      },
      "source": [
        "from sklearn import svm\n",
        "\n",
        "svm_clf = svm.SVC()\n",
        "svm_clf.fit(train_features, train_labels)"
      ],
      "execution_count": null,
      "outputs": [
        {
          "output_type": "execute_result",
          "data": {
            "text/plain": [
              "SVC(C=1.0, break_ties=False, cache_size=200, class_weight=None, coef0=0.0,\n",
              "    decision_function_shape='ovr', degree=3, gamma='scale', kernel='rbf',\n",
              "    max_iter=-1, probability=False, random_state=None, shrinking=True,\n",
              "    tol=0.001, verbose=False)"
            ]
          },
          "metadata": {
            "tags": []
          },
          "execution_count": 27
        }
      ]
    },
    {
      "cell_type": "code",
      "metadata": {
        "id": "9BCtMvP7KM-t",
        "outputId": "e62e9265-024c-4dac-9f5f-8e9586488352",
        "colab": {
          "base_uri": "https://localhost:8080/",
          "height": 33
        }
      },
      "source": [
        "svm_clf.score(test_features, test_labels)"
      ],
      "execution_count": null,
      "outputs": [
        {
          "output_type": "execute_result",
          "data": {
            "text/plain": [
              "0.6985294117647058"
            ]
          },
          "metadata": {
            "tags": []
          },
          "execution_count": 40
        }
      ]
    },
    {
      "cell_type": "markdown",
      "metadata": {
        "id": "oYNqOyHILMNy"
      },
      "source": [
        "Running the SVM model on the test set returns an accuracy score of **69.85%**. "
      ]
    },
    {
      "cell_type": "code",
      "metadata": {
        "id": "waZhAheZLO_e",
        "outputId": "366a8a5e-9b32-42d4-ca2c-5cc7f9947351",
        "colab": {
          "base_uri": "https://localhost:8080/",
          "height": 50
        }
      },
      "source": [
        "svm_pred = svm_clf.predict(test_features)\n",
        "print(confusion_matrix(test_labels,svm_pred))"
      ],
      "execution_count": null,
      "outputs": [
        {
          "output_type": "stream",
          "text": [
            "[[114  85]\n",
            " [ 38 171]]\n"
          ],
          "name": "stdout"
        }
      ]
    },
    {
      "cell_type": "markdown",
      "metadata": {
        "id": "_pgsDmC5_OWf"
      },
      "source": [
        "Here's the confusion matrix table:"
      ]
    },
    {
      "cell_type": "markdown",
      "metadata": {
        "id": "mye6oR1W_OWj"
      },
      "source": [
        "Confusion Matrix | Positives | Negatives\n",
        "--- | ---  |---\n",
        "Positives |  True Positive 114 | False Positive 85  \n",
        "Negatives |  False Negative 38 | True Negative 171 \n"
      ]
    },
    {
      "cell_type": "markdown",
      "metadata": {
        "id": "eNzdWVHAuuFu"
      },
      "source": [
        "## Result Plots  \n",
        "\n",
        "We decided to draw a plot based on the predicted results of logistic regression model and SVM model to compare with true labels that were pre-assigned by us."
      ]
    },
    {
      "cell_type": "code",
      "metadata": {
        "id": "A6Ok2a1iutLG"
      },
      "source": [
        "# extract the training dataset\n",
        "data_test = data[split['train'] == 0]\n",
        "data_test['sic'] = data_test['sic'].astype('str').apply(lambda x: x[:2])\n",
        "# add the label column\n",
        "data_test['label'] = new.label[split['train'] == 0]\n",
        "# assign logistic and svm predicted result to the dataset name it as pred_lr and pred_svm respectively\n",
        "data_test['pred_lr'] = test_pred\n",
        "data_test['pred_svm'] = svm_pred\n",
        "# draw random samples from a normal (Gaussian) distribution and assign it to data_test, name aas random\n",
        "data_test['random'] = np.random.normal(loc=0.0, scale=1.0, size= len(data_test))"
      ],
      "execution_count": null,
      "outputs": []
    },
    {
      "cell_type": "code",
      "metadata": {
        "id": "00i9_062valS",
        "outputId": "4b8a4ace-86be-415e-b0df-ea54be333170",
        "colab": {
          "base_uri": "https://localhost:8080/",
          "height": 350
        }
      },
      "source": [
        "# draw plots\n",
        "fig = plt.figure(figsize=(16, 5))\n",
        "a = fig.add_subplot(1, 3, 1)\n",
        "for i in [1, 0]:\n",
        "  a.scatter(x = 'random', y = 'YTD Ret', data = data_test[data_test['label'] == i], label = i)\n",
        "  plt.legend(loc = 'upper right')\n",
        "  plt.xlabel('random')\n",
        "  plt.ylabel('YTD Ret')\n",
        "  plt.title('Real')\n",
        "\n",
        "b = fig.add_subplot(1, 3, 2)\n",
        "for i in data_test['pred_lr'].unique().tolist():\n",
        "  b.scatter(x = 'random', y = 'YTD Ret', data = data_test[data_test['pred_lr'] == i], label = i)\n",
        "  plt.legend(loc = 'upper right')\n",
        "  plt.xlabel('random')\n",
        "  plt.ylabel('YTD Ret')\n",
        "  plt.title('Logistic')\n",
        "\n",
        "\n",
        "c = fig.add_subplot(1, 3, 3)\n",
        "for i in data_test['pred_svm'].unique().tolist():\n",
        "  c.scatter(x = 'random', y = 'YTD Ret', data = data_test[data_test['pred_svm'] == i], label = i)\n",
        "  plt.legend(loc = 'upper right')\n",
        "  plt.xlabel('random')\n",
        "  plt.ylabel('YTD Ret')\n",
        "  plt.title('SVM')"
      ],
      "execution_count": null,
      "outputs": [
        {
          "output_type": "display_data",
          "data": {
            "image/png": "[encoded data removed]",
            "text/plain": [
              "<Figure size 1152x360 with 3 Axes>"
            ]
          },
          "metadata": {
            "tags": [],
            "needs_background": "light"
          }
        }
      ]
    },
    {
      "cell_type": "markdown",
      "metadata": {
        "id": "hnzcxGti_zeu"
      },
      "source": [
        "When drawing scatter plots, we noticed that it requires both x and y axes. Since we only have the `YTD Ret` information from the original dataset, we created a list (named as `random`) with the same length as the test dataset and have random values that satisfies normal distribution and used it as x-axis. In conclusion, both models have good performances although some are overlapping."
      ]
    },
    {
      "cell_type": "markdown",
      "metadata": {
        "id": "ZIwHYOUubf1B"
      },
      "source": [
        "# Naïve Bayes estimation method"
      ]
    },
    {
      "cell_type": "markdown",
      "metadata": {
        "id": "SAaFbsGW_KTb"
      },
      "source": [
        "## Create Frequency Count of Words in Description"
      ]
    },
    {
      "cell_type": "code",
      "metadata": {
        "id": "BNG0U7NteUL1",
        "outputId": "f4bd8d08-ee19-490a-b95c-ba8645ef3457",
        "colab": {
          "base_uri": "https://localhost:8080/",
          "height": 50
        }
      },
      "source": [
        "import nltk\n",
        "nltk.download('punkt')\n",
        "import string"
      ],
      "execution_count": null,
      "outputs": [
        {
          "output_type": "stream",
          "text": [
            "[nltk_data] Downloading package punkt to /root/nltk_data...\n",
            "[nltk_data]   Unzipping tokenizers/punkt.zip.\n"
          ],
          "name": "stdout"
        }
      ]
    },
    {
      "cell_type": "code",
      "metadata": {
        "id": "xcSZRrqiI89d"
      },
      "source": [
        "doc = new['description'].str.lower().apply(lambda x: nltk.word_tokenize(x))\n",
        "\n",
        "for i in new.index:\n",
        "  doc[i] = [word for word in doc[i] if word not in string.punctuation]\n",
        "\n",
        "document = [(list(doc[i]), new.label[i]) for i in new.index]"
      ],
      "execution_count": null,
      "outputs": []
    },
    {
      "cell_type": "code",
      "metadata": {
        "id": "LMCyNxEt7thn"
      },
      "source": [
        "# Define the feature extractor\n",
        "def clean_text(text):\n",
        "  text = text.lower().split()\n",
        "  return text\n",
        "\n",
        "all_words = nltk.FreqDist(new.description.apply(clean_text).explode())\n",
        "word_features = list(all_words)[:2000]\n",
        "\n",
        "def document_features(document):\n",
        "    document_words = set(document)\n",
        "    features = {}\n",
        "    for word in word_features:\n",
        "        features['contains({})'.format(word)] = (word in document_words)\n",
        "    return features"
      ],
      "execution_count": null,
      "outputs": []
    },
    {
      "cell_type": "markdown",
      "metadata": {
        "id": "1kIbezP3_5QN"
      },
      "source": [
        "## Train a Naïve Bayes Model on Training Dataset"
      ]
    },
    {
      "cell_type": "code",
      "metadata": {
        "id": "OPt24d1S9tOx"
      },
      "source": [
        "# Train Naïve Bayes classifier\n",
        "featuresets = [(document_features(d), c) for (d,c) in document]\n",
        "train_set = [featuresets[i] for i in index]\n",
        "test_set = [featuresets[i] for i in np.delete(np.arange(0, 1361, 1), index)]"
      ],
      "execution_count": null,
      "outputs": []
    },
    {
      "cell_type": "code",
      "metadata": {
        "id": "VVsGZUnWowtE"
      },
      "source": [
        "classifier = nltk.NaiveBayesClassifier.train(train_set)"
      ],
      "execution_count": null,
      "outputs": []
    },
    {
      "cell_type": "markdown",
      "metadata": {
        "id": "eOgAbPpeAPkY"
      },
      "source": [
        "## Accuracy of Naïve Bayes Model on Testing Dataset"
      ]
    },
    {
      "cell_type": "code",
      "metadata": {
        "id": "IB84PtQe96-Z",
        "outputId": "43e414c8-0b71-4fa2-aca9-220d4e11f0aa",
        "colab": {
          "base_uri": "https://localhost:8080/",
          "height": 33
        }
      },
      "source": [
        "# Test the classifier\n",
        "nltk.classify.accuracy(classifier, test_set)"
      ],
      "execution_count": null,
      "outputs": [
        {
          "output_type": "execute_result",
          "data": {
            "text/plain": [
              "0.6568627450980392"
            ]
          },
          "metadata": {
            "tags": []
          },
          "execution_count": 37
        }
      ]
    },
    {
      "cell_type": "markdown",
      "metadata": {
        "id": "AiBsYS9cD6rA"
      },
      "source": [
        "Using Naive Bayes model , we got the accuracy score to be **65.69%**."
      ]
    },
    {
      "cell_type": "markdown",
      "metadata": {
        "id": "7PLsYSDdAXqj"
      },
      "source": [
        "## Show Most Informative Words for Classifiying Returns"
      ]
    },
    {
      "cell_type": "code",
      "metadata": {
        "id": "F4dNWHD59-sl",
        "outputId": "c417f575-da70-4fd1-be1e-b19c56e3e358",
        "colab": {
          "base_uri": "https://localhost:8080/",
          "height": 368
        }
      },
      "source": [
        "# Show the most important features as interpreted by Naive Bayes\n",
        "classifier.show_most_informative_features(20)"
      ],
      "execution_count": null,
      "outputs": [
        {
          "output_type": "stream",
          "text": [
            "Most Informative Features\n",
            "  contains(destinations) = True              0.0 : 1.0    =      7.5 : 1.0\n",
            "         contains(crude) = True              0.0 : 1.0    =      6.5 : 1.0\n",
            "    contains(infectious) = True              1.0 : 0.0    =      6.5 : 1.0\n",
            "      contains(mortgage) = True              0.0 : 1.0    =      6.1 : 1.0\n",
            "         contains(drugs) = True              1.0 : 0.0    =      6.0 : 1.0\n",
            "     contains(fiduciary) = True              0.0 : 1.0    =      5.7 : 1.0\n",
            "      contains(dialysis) = True              1.0 : 0.0    =      5.1 : 1.0\n",
            "     contains(lifecycle) = True              1.0 : 0.0    =      5.1 : 1.0\n",
            "   contains(ingredients) = True              1.0 : 0.0    =      5.1 : 1.0\n",
            "           contains(los) = True              0.0 : 1.0    =      4.9 : 1.0\n",
            "       contains(savings) = True              0.0 : 1.0    =      4.7 : 1.0\n",
            "          contains(loan) = True              0.0 : 1.0    =      4.5 : 1.0\n",
            "         contains(loans) = True              0.0 : 1.0    =      4.5 : 1.0\n",
            "    contains(subsystems) = True              1.0 : 0.0    =      4.4 : 1.0\n",
            "          contains(debt) = True              0.0 : 1.0    =      4.3 : 1.0\n",
            "       contains(deposit) = True              0.0 : 1.0    =      4.2 : 1.0\n",
            "         contains(money) = True              0.0 : 1.0    =      4.2 : 1.0\n",
            "       contains(bancorp) = True              0.0 : 1.0    =      4.0 : 1.0\n",
            "          contains(bank) = True              0.0 : 1.0    =      4.0 : 1.0\n",
            "        contains(arrays) = True              1.0 : 0.0    =      3.7 : 1.0\n"
          ],
          "name": "stdout"
        }
      ]
    },
    {
      "cell_type": "markdown",
      "metadata": {
        "id": "ccPP5hfLPBNo"
      },
      "source": [
        "We extracted the top 5 most informative words for both high and low returns based on pre-assigned labels."
      ]
    },
    {
      "cell_type": "code",
      "metadata": {
        "id": "uiHwhxzfR9LF"
      },
      "source": [
        "pos = ['infectious', 'drugs', 'lifecycle', 'dialysis', 'ingredients']\n",
        "neg = ['destinations', 'crude', 'mortgage', 'fiduciary', 'savings']"
      ],
      "execution_count": null,
      "outputs": []
    },
    {
      "cell_type": "markdown",
      "metadata": {
        "id": "W0q2j4TXBb3Q"
      },
      "source": [
        "\n",
        "Next, we want to go back to the industry to see if these words make sense and truely react on the impact of COVID-19 on different industries."
      ]
    },
    {
      "cell_type": "markdown",
      "metadata": {
        "id": "iYBZ_GtxLe7b"
      },
      "source": [
        "## Import SIC information"
      ]
    },
    {
      "cell_type": "code",
      "metadata": {
        "id": "wgjFXCmvQ1gN",
        "outputId": "1c9e26ad-7e59-41c4-8806-28ea5a137a40",
        "colab": {
          "resources": {
            "http://localhost:8080/nbextensions/google.colab/files.js": {
              "data": "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",
              "ok": true,
              "headers": [
                [
                  "content-type",
                  "application/javascript"
                ]
              ],
              "status": 200,
              "status_text": ""
            }
          },
          "base_uri": "https://localhost:8080/",
          "height": 79
        }
      },
      "source": [
        "from google.colab import files\n",
        "uploaded = files.upload()"
      ],
      "execution_count": null,
      "outputs": [
        {
          "output_type": "display_data",
          "data": {
            "text/html": [
              "\n",
              "     <input type=\"file\" id=\"files-79640ded-72e5-4bff-81d9-1e0d6d2617f4\" name=\"files[]\" multiple disabled />\n",
              "     <output id=\"result-79640ded-72e5-4bff-81d9-1e0d6d2617f4\">\n",
              "      Upload widget is only available when the cell has been executed in the\n",
              "      current browser session. Please rerun this cell to enable.\n",
              "      </output>\n",
              "      <script src=\"/nbextensions/google.colab/files.js\"></script> "
            ],
            "text/plain": [
              "<IPython.core.display.HTML object>"
            ]
          },
          "metadata": {
            "tags": []
          }
        },
        {
          "output_type": "stream",
          "text": [
            "Saving sic.csv to sic.csv\n"
          ],
          "name": "stdout"
        }
      ]
    },
    {
      "cell_type": "code",
      "metadata": {
        "id": "Go1cvCmQv2CP",
        "outputId": "a0caf82b-92d3-4528-f83c-e822e736e11f",
        "colab": {
          "base_uri": "https://localhost:8080/",
          "height": 196
        }
      },
      "source": [
        "sic = pd.read_csv('sic.csv')\n",
        "sic['sic'] = sic['sic'].astype('str')\n",
        "sic.head()"
      ],
      "execution_count": null,
      "outputs": [
        {
          "output_type": "execute_result",
          "data": {
            "text/html": [
              "<div>\n",
              "<style scoped>\n",
              "    .dataframe tbody tr th:only-of-type {\n",
              "        vertical-align: middle;\n",
              "    }\n",
              "\n",
              "    .dataframe tbody tr th {\n",
              "        vertical-align: top;\n",
              "    }\n",
              "\n",
              "    .dataframe thead th {\n",
              "        text-align: right;\n",
              "    }\n",
              "</style>\n",
              "<table border=\"1\" class=\"dataframe\">\n",
              "  <thead>\n",
              "    <tr style=\"text-align: right;\">\n",
              "      <th></th>\n",
              "      <th>sic</th>\n",
              "      <th>industry</th>\n",
              "      <th>class</th>\n",
              "      <th>division</th>\n",
              "    </tr>\n",
              "  </thead>\n",
              "  <tbody>\n",
              "    <tr>\n",
              "      <th>0</th>\n",
              "      <td>1</td>\n",
              "      <td>Agricultural Production – Crops</td>\n",
              "      <td>A</td>\n",
              "      <td>Agriculture, Forestry, &amp; Fishing</td>\n",
              "    </tr>\n",
              "    <tr>\n",
              "      <th>1</th>\n",
              "      <td>2</td>\n",
              "      <td>Agricultural Production – Livestock</td>\n",
              "      <td>A</td>\n",
              "      <td>Agriculture, Forestry, &amp; Fishing</td>\n",
              "    </tr>\n",
              "    <tr>\n",
              "      <th>2</th>\n",
              "      <td>7</td>\n",
              "      <td>Agricultural Services</td>\n",
              "      <td>A</td>\n",
              "      <td>Agriculture, Forestry, &amp; Fishing</td>\n",
              "    </tr>\n",
              "    <tr>\n",
              "      <th>3</th>\n",
              "      <td>8</td>\n",
              "      <td>Forestry</td>\n",
              "      <td>A</td>\n",
              "      <td>Agriculture, Forestry, &amp; Fishing</td>\n",
              "    </tr>\n",
              "    <tr>\n",
              "      <th>4</th>\n",
              "      <td>9</td>\n",
              "      <td>Fishing, Hunting, &amp; Trapping</td>\n",
              "      <td>A</td>\n",
              "      <td>Agriculture, Forestry, &amp; Fishing</td>\n",
              "    </tr>\n",
              "  </tbody>\n",
              "</table>\n",
              "</div>"
            ],
            "text/plain": [
              "  sic  ...                          division\n",
              "0   1  ...  Agriculture, Forestry, & Fishing\n",
              "1   2  ...  Agriculture, Forestry, & Fishing\n",
              "2   7  ...  Agriculture, Forestry, & Fishing\n",
              "3   8  ...  Agriculture, Forestry, & Fishing\n",
              "4   9  ...  Agriculture, Forestry, & Fishing\n",
              "\n",
              "[5 rows x 4 columns]"
            ]
          },
          "metadata": {
            "tags": []
          },
          "execution_count": 40
        }
      ]
    },
    {
      "cell_type": "code",
      "metadata": {
        "id": "kQgpxEydHceL",
        "outputId": "46e8b080-121c-451c-edb2-f2faf8b369ab",
        "colab": {
          "base_uri": "https://localhost:8080/",
          "height": 263
        }
      },
      "source": [
        "# Add SIC data from Project Data\n",
        "dm = pd.merge(new, data, how='left', left_on=['ticker','YTD Ret'], right_on = ['tic','YTD Ret'])\n",
        "dm = dm[['ticker', 'description','YTD Ret', 'label','sic']]\n",
        "\n",
        "# Only keep the first two digit of SIC\n",
        "dm['sic'] = dm['sic'].astype('str').apply(lambda x: x[:2])\n",
        "\n",
        "# Merge the dataset\n",
        "dm = pd.merge(dm, sic, how = 'left', on = ['sic'])\n",
        "\n",
        "# make description all lowercase\n",
        "dm['description'] = dm['description'].apply(lambda x: x.lower())\n",
        "dm.head()"
      ],
      "execution_count": null,
      "outputs": [
        {
          "output_type": "execute_result",
          "data": {
            "text/html": [
              "<div>\n",
              "<style scoped>\n",
              "    .dataframe tbody tr th:only-of-type {\n",
              "        vertical-align: middle;\n",
              "    }\n",
              "\n",
              "    .dataframe tbody tr th {\n",
              "        vertical-align: top;\n",
              "    }\n",
              "\n",
              "    .dataframe thead th {\n",
              "        text-align: right;\n",
              "    }\n",
              "</style>\n",
              "<table border=\"1\" class=\"dataframe\">\n",
              "  <thead>\n",
              "    <tr style=\"text-align: right;\">\n",
              "      <th></th>\n",
              "      <th>ticker</th>\n",
              "      <th>description</th>\n",
              "      <th>YTD Ret</th>\n",
              "      <th>label</th>\n",
              "      <th>sic</th>\n",
              "      <th>industry</th>\n",
              "      <th>class</th>\n",
              "      <th>division</th>\n",
              "    </tr>\n",
              "  </thead>\n",
              "  <tbody>\n",
              "    <tr>\n",
              "      <th>0</th>\n",
              "      <td>A</td>\n",
              "      <td>agilent technologies, inc. provides applicatio...</td>\n",
              "      <td>-0.1745</td>\n",
              "      <td>1.0</td>\n",
              "      <td>38</td>\n",
              "      <td>Instruments &amp; Related Products</td>\n",
              "      <td>D</td>\n",
              "      <td>Manufacturing</td>\n",
              "    </tr>\n",
              "    <tr>\n",
              "      <th>1</th>\n",
              "      <td>AAL</td>\n",
              "      <td>american airlines group inc., through its subs...</td>\n",
              "      <td>-0.6726</td>\n",
              "      <td>0.0</td>\n",
              "      <td>45</td>\n",
              "      <td>Transportation by Air</td>\n",
              "      <td>E</td>\n",
              "      <td>Transportation &amp; Public Utilities</td>\n",
              "    </tr>\n",
              "    <tr>\n",
              "      <th>2</th>\n",
              "      <td>AAON</td>\n",
              "      <td>aaon, inc., together with its subsidiaries, en...</td>\n",
              "      <td>-0.0911</td>\n",
              "      <td>1.0</td>\n",
              "      <td>35</td>\n",
              "      <td>Industrial Machinery &amp; Equipment</td>\n",
              "      <td>D</td>\n",
              "      <td>Manufacturing</td>\n",
              "    </tr>\n",
              "    <tr>\n",
              "      <th>3</th>\n",
              "      <td>AAP</td>\n",
              "      <td>advance auto parts, inc. provides automotive r...</td>\n",
              "      <td>-0.4715</td>\n",
              "      <td>0.0</td>\n",
              "      <td>55</td>\n",
              "      <td>Automative Dealers &amp; Service Stations</td>\n",
              "      <td>G</td>\n",
              "      <td>Retail Trade</td>\n",
              "    </tr>\n",
              "    <tr>\n",
              "      <th>4</th>\n",
              "      <td>AAPL</td>\n",
              "      <td>apple inc. designs, manufactures, and markets ...</td>\n",
              "      <td>-0.1779</td>\n",
              "      <td>1.0</td>\n",
              "      <td>36</td>\n",
              "      <td>Electronic &amp; Other Electric Equipment</td>\n",
              "      <td>D</td>\n",
              "      <td>Manufacturing</td>\n",
              "    </tr>\n",
              "  </tbody>\n",
              "</table>\n",
              "</div>"
            ],
            "text/plain": [
              "  ticker  ...                           division\n",
              "0      A  ...                      Manufacturing\n",
              "1    AAL  ...  Transportation & Public Utilities\n",
              "2   AAON  ...                      Manufacturing\n",
              "3    AAP  ...                       Retail Trade\n",
              "4   AAPL  ...                      Manufacturing\n",
              "\n",
              "[5 rows x 8 columns]"
            ]
          },
          "metadata": {
            "tags": []
          },
          "execution_count": 41
        }
      ]
    },
    {
      "cell_type": "markdown",
      "metadata": {
        "id": "Lh0BoOOrTuJw"
      },
      "source": [
        "## Positive and Negative Performance during COVID-19"
      ]
    },
    {
      "cell_type": "code",
      "metadata": {
        "id": "hEL5j2A3ScJN",
        "outputId": "2b0a4876-dcc4-4dca-ee80-9614f0402160",
        "colab": {
          "base_uri": "https://localhost:8080/",
          "height": 196
        }
      },
      "source": [
        "positive_result = pd.DataFrame(columns=dm.columns)\n",
        "for i in pos:\n",
        "  positive_result = positive_result.append(dm[dm.description.str.contains(i)]).drop_duplicates()\n",
        "\n",
        "positive_result.head()"
      ],
      "execution_count": null,
      "outputs": [
        {
          "output_type": "execute_result",
          "data": {
            "text/html": [
              "<div>\n",
              "<style scoped>\n",
              "    .dataframe tbody tr th:only-of-type {\n",
              "        vertical-align: middle;\n",
              "    }\n",
              "\n",
              "    .dataframe tbody tr th {\n",
              "        vertical-align: top;\n",
              "    }\n",
              "\n",
              "    .dataframe thead th {\n",
              "        text-align: right;\n",
              "    }\n",
              "</style>\n",
              "<table border=\"1\" class=\"dataframe\">\n",
              "  <thead>\n",
              "    <tr style=\"text-align: right;\">\n",
              "      <th></th>\n",
              "      <th>ticker</th>\n",
              "      <th>description</th>\n",
              "      <th>YTD Ret</th>\n",
              "      <th>label</th>\n",
              "      <th>sic</th>\n",
              "      <th>industry</th>\n",
              "      <th>class</th>\n",
              "      <th>division</th>\n",
              "    </tr>\n",
              "  </thead>\n",
              "  <tbody>\n",
              "    <tr>\n",
              "      <th>11</th>\n",
              "      <td>ABT</td>\n",
              "      <td>abbott laboratories discovers, develops, manuf...</td>\n",
              "      <td>-0.0853</td>\n",
              "      <td>1.0</td>\n",
              "      <td>38</td>\n",
              "      <td>Instruments &amp; Related Products</td>\n",
              "      <td>D</td>\n",
              "      <td>Manufacturing</td>\n",
              "    </tr>\n",
              "    <tr>\n",
              "      <th>25</th>\n",
              "      <td>ADMA</td>\n",
              "      <td>adma biologics, inc., a biopharmaceutical and ...</td>\n",
              "      <td>-0.2275</td>\n",
              "      <td>1.0</td>\n",
              "      <td>na</td>\n",
              "      <td>NaN</td>\n",
              "      <td>NaN</td>\n",
              "      <td>NaN</td>\n",
              "    </tr>\n",
              "    <tr>\n",
              "      <th>28</th>\n",
              "      <td>ADPT</td>\n",
              "      <td>adaptive biotechnologies corporation, a commer...</td>\n",
              "      <td>-0.1404</td>\n",
              "      <td>1.0</td>\n",
              "      <td>28</td>\n",
              "      <td>Chemical &amp; Allied Products</td>\n",
              "      <td>D</td>\n",
              "      <td>Manufacturing</td>\n",
              "    </tr>\n",
              "    <tr>\n",
              "      <th>56</th>\n",
              "      <td>ALDX</td>\n",
              "      <td>aldeyra therapeutics, inc., a biotechnology co...</td>\n",
              "      <td>-0.6609</td>\n",
              "      <td>0.0</td>\n",
              "      <td>28</td>\n",
              "      <td>Chemical &amp; Allied Products</td>\n",
              "      <td>D</td>\n",
              "      <td>Manufacturing</td>\n",
              "    </tr>\n",
              "    <tr>\n",
              "      <th>67</th>\n",
              "      <td>ALNY</td>\n",
              "      <td>alnylam pharmaceuticals, inc., a biopharmaceut...</td>\n",
              "      <td>-0.0812</td>\n",
              "      <td>1.0</td>\n",
              "      <td>28</td>\n",
              "      <td>Chemical &amp; Allied Products</td>\n",
              "      <td>D</td>\n",
              "      <td>Manufacturing</td>\n",
              "    </tr>\n",
              "  </tbody>\n",
              "</table>\n",
              "</div>"
            ],
            "text/plain": [
              "   ticker  ...       division\n",
              "11    ABT  ...  Manufacturing\n",
              "25   ADMA  ...            NaN\n",
              "28   ADPT  ...  Manufacturing\n",
              "56   ALDX  ...  Manufacturing\n",
              "67   ALNY  ...  Manufacturing\n",
              "\n",
              "[5 rows x 8 columns]"
            ]
          },
          "metadata": {
            "tags": []
          },
          "execution_count": 42
        }
      ]
    },
    {
      "cell_type": "code",
      "metadata": {
        "id": "JtJMjgEgVC_2",
        "outputId": "a5fd3ed4-1b84-4282-8c72-3e85afdc8f02",
        "colab": {
          "base_uri": "https://localhost:8080/",
          "height": 196
        }
      },
      "source": [
        "negative_result = pd.DataFrame(columns=dm.columns)\n",
        "for i in neg:\n",
        "  negative_result = negative_result.append(dm[dm.description.str.contains(i)]).drop_duplicates()\n",
        "\n",
        "negative_result.head()"
      ],
      "execution_count": null,
      "outputs": [
        {
          "output_type": "execute_result",
          "data": {
            "text/html": [
              "<div>\n",
              "<style scoped>\n",
              "    .dataframe tbody tr th:only-of-type {\n",
              "        vertical-align: middle;\n",
              "    }\n",
              "\n",
              "    .dataframe tbody tr th {\n",
              "        vertical-align: top;\n",
              "    }\n",
              "\n",
              "    .dataframe thead th {\n",
              "        text-align: right;\n",
              "    }\n",
              "</style>\n",
              "<table border=\"1\" class=\"dataframe\">\n",
              "  <thead>\n",
              "    <tr style=\"text-align: right;\">\n",
              "      <th></th>\n",
              "      <th>ticker</th>\n",
              "      <th>description</th>\n",
              "      <th>YTD Ret</th>\n",
              "      <th>label</th>\n",
              "      <th>sic</th>\n",
              "      <th>industry</th>\n",
              "      <th>class</th>\n",
              "      <th>division</th>\n",
              "    </tr>\n",
              "  </thead>\n",
              "  <tbody>\n",
              "    <tr>\n",
              "      <th>1</th>\n",
              "      <td>AAL</td>\n",
              "      <td>american airlines group inc., through its subs...</td>\n",
              "      <td>-0.6726</td>\n",
              "      <td>0.0</td>\n",
              "      <td>45</td>\n",
              "      <td>Transportation by Air</td>\n",
              "      <td>E</td>\n",
              "      <td>Transportation &amp; Public Utilities</td>\n",
              "    </tr>\n",
              "    <tr>\n",
              "      <th>59</th>\n",
              "      <td>ALGT</td>\n",
              "      <td>allegiant travel company, a leisure travel com...</td>\n",
              "      <td>-0.6015</td>\n",
              "      <td>0.0</td>\n",
              "      <td>45</td>\n",
              "      <td>Transportation by Air</td>\n",
              "      <td>E</td>\n",
              "      <td>Transportation &amp; Public Utilities</td>\n",
              "    </tr>\n",
              "    <tr>\n",
              "      <th>60</th>\n",
              "      <td>ALK</td>\n",
              "      <td>alaska air group, inc., through its subsidiari...</td>\n",
              "      <td>-0.6356</td>\n",
              "      <td>0.0</td>\n",
              "      <td>45</td>\n",
              "      <td>Transportation by Air</td>\n",
              "      <td>E</td>\n",
              "      <td>Transportation &amp; Public Utilities</td>\n",
              "    </tr>\n",
              "    <tr>\n",
              "      <th>223</th>\n",
              "      <td>CCL</td>\n",
              "      <td>carnival corporation &amp; plc operates as a leisu...</td>\n",
              "      <td>-0.8330</td>\n",
              "      <td>0.0</td>\n",
              "      <td>44</td>\n",
              "      <td>Water Transportation</td>\n",
              "      <td>E</td>\n",
              "      <td>Transportation &amp; Public Utilities</td>\n",
              "    </tr>\n",
              "    <tr>\n",
              "      <th>490</th>\n",
              "      <td>FWRD</td>\n",
              "      <td>forward air corporation, together with its sub...</td>\n",
              "      <td>-0.3352</td>\n",
              "      <td>0.0</td>\n",
              "      <td>42</td>\n",
              "      <td>Trucking &amp; Warehousing</td>\n",
              "      <td>E</td>\n",
              "      <td>Transportation &amp; Public Utilities</td>\n",
              "    </tr>\n",
              "  </tbody>\n",
              "</table>\n",
              "</div>"
            ],
            "text/plain": [
              "    ticker  ...                           division\n",
              "1      AAL  ...  Transportation & Public Utilities\n",
              "59    ALGT  ...  Transportation & Public Utilities\n",
              "60     ALK  ...  Transportation & Public Utilities\n",
              "223    CCL  ...  Transportation & Public Utilities\n",
              "490   FWRD  ...  Transportation & Public Utilities\n",
              "\n",
              "[5 rows x 8 columns]"
            ]
          },
          "metadata": {
            "tags": []
          },
          "execution_count": 43
        }
      ]
    },
    {
      "cell_type": "markdown",
      "metadata": {
        "id": "MiDragi-VXmp"
      },
      "source": [
        "# Textual Analysis"
      ]
    },
    {
      "cell_type": "markdown",
      "metadata": {
        "id": "WY-UZ_O-ZDYG"
      },
      "source": [
        "### Positive Words Result"
      ]
    },
    {
      "cell_type": "code",
      "metadata": {
        "id": "-hIg0X2JdAVK",
        "outputId": "0ca42bc7-647f-41c5-a404-20ca4e3eb498",
        "colab": {
          "base_uri": "https://localhost:8080/",
          "height": 117
        }
      },
      "source": [
        "## positive words result group by label \n",
        "print(\"total number of companies: \" + str(len(positive_result)) + \"\\n\")\n",
        "print(positive_result.groupby('label').size())"
      ],
      "execution_count": null,
      "outputs": [
        {
          "output_type": "stream",
          "text": [
            "total number of companies: 94\n",
            "\n",
            "label\n",
            "0.0    19\n",
            "1.0    75\n",
            "dtype: int64\n"
          ],
          "name": "stdout"
        }
      ]
    },
    {
      "cell_type": "markdown",
      "metadata": {
        "id": "AcEXSluDVhd_"
      },
      "source": [
        "There are **in total of 94 companies** who have the top 5 positive words appeared in their company descriptions. Among all these companies, 75 companies behave better than the median of all companies and 19 companies behave worse than the median. "
      ]
    },
    {
      "cell_type": "code",
      "metadata": {
        "id": "wE21zDBgXJFf",
        "outputId": "9e9f0564-be75-4ffd-d48f-d38d8f07cd03",
        "colab": {
          "base_uri": "https://localhost:8080/",
          "height": 150
        }
      },
      "source": [
        "positive_result.groupby(['sic','industry','division', 'label'])['ticker'].count().sort_values(ascending = False).head(6)"
      ],
      "execution_count": null,
      "outputs": [
        {
          "output_type": "execute_result",
          "data": {
            "text/plain": [
              "sic  industry                            division         label\n",
              "28   Chemical & Allied Products          Manufacturing    1.0      36\n",
              "73   Business Services                   Services         1.0      10\n",
              "28   Chemical & Allied Products          Manufacturing    0.0      10\n",
              "38   Instruments & Related Products      Manufacturing    1.0       7\n",
              "51   Wholesale Trade – Nondurable Goods  Wholesale Trade  1.0       3\n",
              "20   Food & Kindred Products             Manufacturing    1.0       2\n",
              "Name: ticker, dtype: int64"
            ]
          },
          "metadata": {
            "tags": []
          },
          "execution_count": 45
        }
      ]
    },
    {
      "cell_type": "markdown",
      "metadata": {
        "id": "rfWrs2_Oo-MH"
      },
      "source": [
        "From the results above, we conclude that the top three divisions that got affected positively by COVID-19 are **manufacturing, services, and retail trade**.  Among the manufacturing division, industry “Chemical & Allied Products” results in the most positive returns, followed by “Instruments & Related Products”, “Food & Kindred Products”, and “Industrial Machinery & Equipment”. \n",
        "  \n"
      ]
    },
    {
      "cell_type": "markdown",
      "metadata": {
        "id": "6mb0uq84oI1H"
      },
      "source": [
        "1. Manufacturing \n",
        "**Chemical & Allied Products**  \n",
        "Due to the COVID-19 pandemic, many chemical companies are shifting production at plants around the world to meet the global demand for hand sanitizers and disinfectants. Certain active substances, such as alcohol, are in shortage as the ongoing crisis increases the demand for the products. Dozens of chemical companies have stepped in to provide supplies in the form of finished products or the substances required to make them. That’s why most chemical industries result in positive returns.  \n",
        "\n",
        "**Instruments & Related Products**  \n",
        "Manufacturers that normally make fuel-grade alcohol are switching gears to produce neutral alcohol for disinfectants. Companies in the “Instruments & Related Products” industry are responsible for the components of the medical equipment. Without those small components, we were unable to make any kind of medical equipment, not to mention sending the equipment to hospitals all around the world.  \n",
        "\n",
        "**Food & Kindred Products**  \n",
        "Due to the COVID-19 pandemic, many states provide Stay-at-Home advisory which suggests everybody stays at home and should leave their houses as less frequent as possible. People’s need for food and kindred products increased drastically due to the increment of at-home consumption and as well as the fear of the shortage of food.  \n",
        "\n",
        "**Industrial Machinery & Equipment**  \n",
        "Companies in this industry mainly produce ventilators - breathing machines used widely for COVID-19 patients. Ventilators and related medical equipment are probably the most valuable products during the pandemic.  \n",
        "\n",
        "2. Retail Trade  \n",
        "**Miscellaneous Retail**  \n",
        "Retail trade refers to businesses associated with the sale of goods to the final customer. This category generally includes pharmacies, grocery stores and hypermarkets. These companies are seeing a boom as they were now designated as essential services, while other industries were not and were forced to shut down during the outbreak of COVID-19.\n"
      ]
    },
    {
      "cell_type": "markdown",
      "metadata": {
        "id": "BO3uGTjTU9Kd"
      },
      "source": [
        "### Negative Words Result"
      ]
    },
    {
      "cell_type": "code",
      "metadata": {
        "id": "yGs6Ik-VdIzJ",
        "outputId": "916d5664-163a-4148-9b5f-87ce6d62b1f1",
        "colab": {
          "base_uri": "https://localhost:8080/",
          "height": 117
        }
      },
      "source": [
        "# negative words result group by label \n",
        "print(\"total number of companies: \" + str(len(negative_result)) + \"\\n\")\n",
        "print(negative_result.groupby('label').size())"
      ],
      "execution_count": null,
      "outputs": [
        {
          "output_type": "stream",
          "text": [
            "total number of companies: 212\n",
            "\n",
            "label\n",
            "0.0    177\n",
            "1.0     35\n",
            "dtype: int64\n"
          ],
          "name": "stdout"
        }
      ]
    },
    {
      "cell_type": "markdown",
      "metadata": {
        "id": "aQZ3DAoPZTVQ"
      },
      "source": [
        "There are **in total of 212 companies** who have the top 5 negative words appeared in their company descriptions. Among all these companies, 177 companies behave worse than the median of all and 35 companies behave better than the median."
      ]
    },
    {
      "cell_type": "code",
      "metadata": {
        "id": "JR1NyUr8cbwQ",
        "outputId": "2be05ae2-d443-4a3d-d02c-28d638653996",
        "colab": {
          "base_uri": "https://localhost:8080/",
          "height": 150
        }
      },
      "source": [
        "negative_result.groupby(['sic','industry','division', 'label'])['ticker'].count().sort_values(ascending = False).head(6)"
      ],
      "execution_count": null,
      "outputs": [
        {
          "output_type": "execute_result",
          "data": {
            "text/plain": [
              "sic  industry                 division                           label\n",
              "60   Depository Institutions  Finance, Insurance, & Real Estate  0.0      102\n",
              "                                                                 1.0       18\n",
              "13   Oil & Gas Extraction     Mining                             0.0       10\n",
              "63   Insurance Carriers       Finance, Insurance, & Real Estate  0.0        8\n",
              "73   Business Services        Services                           1.0        7\n",
              "45   Transportation by Air    Transportation & Public Utilities  0.0        6\n",
              "Name: ticker, dtype: int64"
            ]
          },
          "metadata": {
            "tags": []
          },
          "execution_count": 47
        }
      ]
    },
    {
      "cell_type": "markdown",
      "metadata": {
        "id": "cWvqKtEpqamv"
      },
      "source": [
        "From the results above, we conclude that the top 3 divisions that got **affected negatively by COVID-19** are \"Finance, Insurance, & Real Estate\" , \"Services\", \"Mining\" and \"Transportation & Public Utilities\".  \n",
        "  \n"
      ]
    },
    {
      "cell_type": "markdown",
      "metadata": {
        "id": "x1fSj9Zvq7kq"
      },
      "source": [
        "1. Finance, Insurance & Real Estate  \n",
        "**Depository Institutions**  \n",
        "The outbreak of COVID-19 epidemic in the United States has been accompanied by a gradual increase in the unemployment rate. Many people have been difficult to pay for rent and mortgage loans. Therefore, the repayment of loans to banks had a negative impact. In addition, the consumption turned to daily necessities, which led to the delay and stagnation of the entire capital flow, which caused banks to be seriously hit.\n",
        "\n",
        "**Insurance Carriers** \n",
        "\n",
        "Due to the outbreak of COVID-19, more people need to go to hospitals to do body examination and COVID-19 test. People use their insurances to reimburse their large medical expenses. Thus, most insurance companies result in negative returns.\n",
        "\n",
        "2. Mining\n",
        "**Oil & Gas Extraction**  \n",
        "The fall in oil prices has affected the entire energy industry chain, and even energy extraction companies had a big negative impact. According to the article ”Why oil prices are crashing and what it means”, it reported that oil prices had been crushed a lot since this March 2020 due to two big reasons: Saudi price war and the oil demand influenced by COVID-19. Due to the outbreak of COVID-19, especially in China, which is the biggest importer of crude oil, the closure of factories and the cancellation of flights have greatly affected the demand for crude oil. Therefore, these reasons caused oil prices to crash.\n",
        "\n",
        "3. Transportation & Public Utilities  \n",
        "**Transportation by Air**  \n",
        "With the increasing number of infected flight attendants and the increasing number of people staying at home, there are a lot of people who shift from working offline to online. In addition, changes in aviation policies have led to massive cancellations of flights all around the world. Thus, transportation by air is one of the most negatively affected industries due to the COVID-19.\n",
        "\n"
      ]
    },
    {
      "cell_type": "markdown",
      "metadata": {
        "id": "-w0rSXrTCnrX"
      },
      "source": [
        "## Business Services Industry\n",
        "\n",
        "\n",
        "Under the Positive Words Result:\n",
        "* labelled as 1, appeared 10 times\n",
        "\n",
        "Under the Negative Words Result:\n",
        "* labelled as 1, appeared 7 times\n",
        "\n",
        "We noticed that Business Services Industry appeared in both positive and negative words results. In addition, the label of this industry is `1` even though it is being predicted in the negative words. Overall speaking, there are more `1` than `0`. Therefore, we think this industry generallt results in a positive result.  \n"
      ]
    },
    {
      "cell_type": "code",
      "metadata": {
        "id": "zO0Aqt8P0pCo",
        "outputId": "3df04015-c821-4998-cbaf-68186e322eed",
        "colab": {
          "base_uri": "https://localhost:8080/",
          "height": 84
        }
      },
      "source": [
        "dm[dm.industry == 'Business Services'].groupby('label').ticker.count()"
      ],
      "execution_count": null,
      "outputs": [
        {
          "output_type": "execute_result",
          "data": {
            "text/plain": [
              "label\n",
              "0.0     54\n",
              "1.0    114\n",
              "Name: ticker, dtype: int64"
            ]
          },
          "metadata": {
            "tags": []
          },
          "execution_count": 141
        }
      ]
    },
    {
      "cell_type": "markdown",
      "metadata": {
        "id": "NqXvTtzPC09M"
      },
      "source": [
        "According to SIC code division description, business service includes establishments primarily engaged in rendering services, not elsewhere classified, to business establishments on a contract or fee basis, such as advertising, credit reporting, collection of claims, mailing, reproduction, stenographic, news syndicates, computer programming, photocopying, duplicating, data processing, services to buildings, and help supply services. COVID-19 has **more positive effects than negative influence on the business service industries** due to the special nature of business services and its various types of service. \n",
        "\n",
        "One industry that has been affected a lot is advertising. According to a survey provided by Influencer Marketing Hub, the brands continuing to advertise online have seen the CPMs fall and the trend in CPC flat or down, this has resulted in their return on advertising spend trending much higher than usual. Meanwhile, there has been increased interest in news with 52% increase in ad spend by news sector. Additionally, ad spend on e-commerce doubled in the U.S. from `$4.8 million` for a trailing four-week period starting on February 17 to `$9.6 million` for the week of March 9. Brands that operated both an online and physical presence have apparently moved their marketing to the web.\n",
        "\n",
        "Another industry that has been greatly affected is computer science, as software is a growth catalyst. Study noted that Zoom, Slack, GoToMyPC, Zoho Remotely, Microsoft Office365, Atlassian, and other remote learning tools are already seeing increased demand as companies increase their remote-working capabilities. Continued growth in demand for cloud infrastructure services and potential increases in spending on specialized software, communications equipment, and telecom services for remote work and education as firms encourage workers to work from home and schools move to online courses.\n",
        "\n",
        "In general, business service industry is performing better than the public expected and generally it is positively affected by the COVID-19."
      ]
    },
    {
      "cell_type": "markdown",
      "metadata": {
        "id": "yNmMYGt8fQj2"
      },
      "source": [
        "## Validation"
      ]
    },
    {
      "cell_type": "code",
      "metadata": {
        "id": "QBLA6U1PIUUT"
      },
      "source": [
        "group = dm[['ticker','label','sic']].groupby(['sic','label']).count().unstack()\n",
        "group.columns = ['negative','positive']\n",
        "group.sort_values(by = 'positive', ascending = False)\n",
        "group.fillna(0, inplace = True)\n",
        "group['total'] = group['negative'] + group['positive']"
      ],
      "execution_count": null,
      "outputs": []
    },
    {
      "cell_type": "markdown",
      "metadata": {
        "id": "SAnyto3EEHUP"
      },
      "source": [
        "### Merge `group` and `sic` datasets"
      ]
    },
    {
      "cell_type": "code",
      "metadata": {
        "id": "3vNYvfBN0Cr6"
      },
      "source": [
        "gm = pd.merge(group, sic, how = 'left', on = ['sic'])\n",
        "gm.sort_values(by = 'total', ascending = False)"
      ],
      "execution_count": null,
      "outputs": []
    },
    {
      "cell_type": "markdown",
      "metadata": {
        "id": "VnHOpUvKEPlI"
      },
      "source": [
        "### Performance of different divisions"
      ]
    },
    {
      "cell_type": "code",
      "metadata": {
        "id": "Dy2Jjvg-ZQS7",
        "outputId": "da0370e1-d665-41ae-9021-38d0ea006ff1",
        "colab": {
          "base_uri": "https://localhost:8080/",
          "height": 345
        }
      },
      "source": [
        "result = dm[['label','division']].groupby(['division']).agg(['mean','count'])\n",
        "result.columns = ['mean', 'count']\n",
        "result.sort_values(by = 'count', ascending = False).head(20)"
      ],
      "execution_count": null,
      "outputs": [
        {
          "output_type": "execute_result",
          "data": {
            "text/html": [
              "<div>\n",
              "<style scoped>\n",
              "    .dataframe tbody tr th:only-of-type {\n",
              "        vertical-align: middle;\n",
              "    }\n",
              "\n",
              "    .dataframe tbody tr th {\n",
              "        vertical-align: top;\n",
              "    }\n",
              "\n",
              "    .dataframe thead th {\n",
              "        text-align: right;\n",
              "    }\n",
              "</style>\n",
              "<table border=\"1\" class=\"dataframe\">\n",
              "  <thead>\n",
              "    <tr style=\"text-align: right;\">\n",
              "      <th></th>\n",
              "      <th>mean</th>\n",
              "      <th>count</th>\n",
              "    </tr>\n",
              "    <tr>\n",
              "      <th>division</th>\n",
              "      <th></th>\n",
              "      <th></th>\n",
              "    </tr>\n",
              "  </thead>\n",
              "  <tbody>\n",
              "    <tr>\n",
              "      <th>Manufacturing</th>\n",
              "      <td>0.582397</td>\n",
              "      <td>534</td>\n",
              "    </tr>\n",
              "    <tr>\n",
              "      <th>Finance, Insurance, &amp; Real Estate</th>\n",
              "      <td>0.321168</td>\n",
              "      <td>274</td>\n",
              "    </tr>\n",
              "    <tr>\n",
              "      <th>Services</th>\n",
              "      <td>0.581197</td>\n",
              "      <td>234</td>\n",
              "    </tr>\n",
              "    <tr>\n",
              "      <th>Transportation &amp; Public Utilities</th>\n",
              "      <td>0.596330</td>\n",
              "      <td>109</td>\n",
              "    </tr>\n",
              "    <tr>\n",
              "      <th>Retail Trade</th>\n",
              "      <td>0.460317</td>\n",
              "      <td>63</td>\n",
              "    </tr>\n",
              "    <tr>\n",
              "      <th>Mining</th>\n",
              "      <td>0.121212</td>\n",
              "      <td>33</td>\n",
              "    </tr>\n",
              "    <tr>\n",
              "      <th>Wholesale Trade</th>\n",
              "      <td>0.480000</td>\n",
              "      <td>25</td>\n",
              "    </tr>\n",
              "    <tr>\n",
              "      <th>Construction</th>\n",
              "      <td>0.300000</td>\n",
              "      <td>10</td>\n",
              "    </tr>\n",
              "    <tr>\n",
              "      <th>Nonclassifiable Establishments</th>\n",
              "      <td>0.750000</td>\n",
              "      <td>4</td>\n",
              "    </tr>\n",
              "  </tbody>\n",
              "</table>\n",
              "</div>"
            ],
            "text/plain": [
              "                                       mean  count\n",
              "division                                          \n",
              "Manufacturing                      0.582397    534\n",
              "Finance, Insurance, & Real Estate  0.321168    274\n",
              "Services                           0.581197    234\n",
              "Transportation & Public Utilities  0.596330    109\n",
              "Retail Trade                       0.460317     63\n",
              "Mining                             0.121212     33\n",
              "Wholesale Trade                    0.480000     25\n",
              "Construction                       0.300000     10\n",
              "Nonclassifiable Establishments     0.750000      4"
            ]
          },
          "metadata": {
            "tags": []
          },
          "execution_count": 50
        }
      ]
    },
    {
      "cell_type": "markdown",
      "metadata": {
        "id": "Ia7I8h9iSaiK"
      },
      "source": [
        "`mean` column takes the average of labels, grouped by the division. Division has mean that is larger than 0.5 means it has more positive labels (1) than negative labels (0). As showed by the above result, COVID-19 had a positive effects on divisions such as manufacturing, services, and public utilities and negative effects on divisions such as finance and mining. This mathces our textual analysis results. "
      ]
    },
    {
      "cell_type": "markdown",
      "metadata": {
        "id": "dQmKXsbOM4kr"
      },
      "source": [
        "### Boxplot of YTD Return by Different Divisions"
      ]
    },
    {
      "cell_type": "code",
      "metadata": {
        "id": "VsE4DihjM24q",
        "outputId": "6d680c2b-2604-43a7-a1e7-46a344810fba",
        "colab": {
          "base_uri": "https://localhost:8080/",
          "height": 377
        }
      },
      "source": [
        "legend = dm[['division', 'class', 'sic']].groupby(['division', 'class']).count().reset_index()\n",
        "l_legend = []\n",
        "for i in np.arange(0, 9):\n",
        "  l_legend.append(legend['class'][i]  +\": \" + legend['division'][i])\n",
        "\n",
        "fig = plt.figure(figsize=(16, 5))\n",
        "p = fig.add_subplot(1, 2, 1)\n",
        "dm.boxplot(column= 'YTD Ret', by = 'class', ax = p)\n",
        "p.legend(l_legend, loc='center left', bbox_to_anchor=(1, 0.5))"
      ],
      "execution_count": null,
      "outputs": [
        {
          "output_type": "execute_result",
          "data": {
            "text/plain": [
              "<matplotlib.legend.Legend at 0x7f4484aeb7f0>"
            ]
          },
          "metadata": {
            "tags": []
          },
          "execution_count": 51
        },
        {
          "output_type": "display_data",
          "data": {
            "image/png": "[encoded data removed]",
            "text/plain": [
              "<Figure size 1152x360 with 1 Axes>"
            ]
          },
          "metadata": {
            "tags": [],
            "needs_background": "light"
          }
        }
      ]
    },
    {
      "cell_type": "markdown",
      "metadata": {
        "id": "2dwFYM-8GeBp"
      },
      "source": [
        "# References\n",
        "\n",
        "We utilized online resources (e.g. news, magazines, academic articles) to explore deeper about how different industries got affected by the COVID-19, either positively or negatively."
      ]
    },
    {
      "cell_type": "markdown",
      "metadata": {
        "id": "b7SRTGNRGgXs"
      },
      "source": [
        "* [Why Oil Prices Are Crashing and What It Means](https://www.cnn.com/2020/03/09/business/oil-price-crash-explainer/index.html)\n",
        "\n",
        "* [Covid-19: Mass shift to disinfectant production across the world](https://chemicalwatch.com/104936/covid-19-mass-shift-to-disinfectant-production-across-the-world#overlay-strip)\n",
        "\n",
        "* [Coronavirus (COVID-19) Marketing & Ad Spend Impact: Report + Statistics](https://influencermarketinghub.com/coronavirus-marketing-ad-spend-report)\n",
        "\n",
        "* [COVID-19's Impact On Tech Spending This Year](https://www.forbes.com/sites/louiscolumbus/2020/03/16/covid-19s-impact-on-tech-spending-this-year/#3e500c002d67)\n",
        "\n",
        "* [The Odds Of A Tech Market Decline In 2020 Have Just Gone Up To 50%](https://go.forrester.com/blogs-the-odds-of-a-tech-market-decline-in-2020-have-just-gone-up-to-50/)"
      ]
    }
  ]
}